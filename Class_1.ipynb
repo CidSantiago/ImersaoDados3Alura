{
 "cells": [
  {
   "cell_type": "markdown",
   "metadata": {},
   "source": [
    "## Introduction\r\n",
    "---\r\n",
    "Hi! Welcome to my first notebook of the 3rd Data Immersion by Alura! In this notebook, i am gonna do the challenges proposed in the lecture and accompany the code done by the instructors! Sometimes I had the curiosity to discover something before happened in the class, so I did early and marked with #personal. My idea is do this as a progression, so as i am doing i will stop the video and write my thoughts. I am not gonna to talk much about code of the instructors, as it was already explained in the video, only mines. Hope you enjoy! :)\r\n",
    "\r\n"
   ]
  },
  {
   "cell_type": "code",
   "execution_count": 2,
   "metadata": {},
   "outputs": [
    {
     "data": {
      "text/html": "<div>\n<style scoped>\n    .dataframe tbody tr th:only-of-type {\n        vertical-align: middle;\n    }\n\n    .dataframe tbody tr th {\n        vertical-align: top;\n    }\n\n    .dataframe thead th {\n        text-align: right;\n    }\n</style>\n<table border=\"1\" class=\"dataframe\">\n  <thead>\n    <tr style=\"text-align: right;\">\n      <th></th>\n      <th>id</th>\n      <th>tratamento</th>\n      <th>tempo</th>\n      <th>dose</th>\n      <th>droga</th>\n      <th>g-0</th>\n      <th>g-1</th>\n      <th>g-2</th>\n      <th>g-3</th>\n      <th>g-4</th>\n      <th>...</th>\n      <th>c-90</th>\n      <th>c-91</th>\n      <th>c-92</th>\n      <th>c-93</th>\n      <th>c-94</th>\n      <th>c-95</th>\n      <th>c-96</th>\n      <th>c-97</th>\n      <th>c-98</th>\n      <th>c-99</th>\n    </tr>\n  </thead>\n  <tbody>\n    <tr>\n      <th>0</th>\n      <td>id_000644bb2</td>\n      <td>com_droga</td>\n      <td>24</td>\n      <td>D1</td>\n      <td>b68db1d53</td>\n      <td>1.0620</td>\n      <td>0.5577</td>\n      <td>-0.2479</td>\n      <td>-0.6208</td>\n      <td>-0.1944</td>\n      <td>...</td>\n      <td>0.2862</td>\n      <td>0.2584</td>\n      <td>0.8076</td>\n      <td>0.5523</td>\n      <td>-0.1912</td>\n      <td>0.6584</td>\n      <td>-0.3981</td>\n      <td>0.2139</td>\n      <td>0.3801</td>\n      <td>0.4176</td>\n    </tr>\n    <tr>\n      <th>1</th>\n      <td>id_000779bfc</td>\n      <td>com_droga</td>\n      <td>72</td>\n      <td>D1</td>\n      <td>df89a8e5a</td>\n      <td>0.0743</td>\n      <td>0.4087</td>\n      <td>0.2991</td>\n      <td>0.0604</td>\n      <td>1.0190</td>\n      <td>...</td>\n      <td>-0.4265</td>\n      <td>0.7543</td>\n      <td>0.4708</td>\n      <td>0.0230</td>\n      <td>0.2957</td>\n      <td>0.4899</td>\n      <td>0.1522</td>\n      <td>0.1241</td>\n      <td>0.6077</td>\n      <td>0.7371</td>\n    </tr>\n    <tr>\n      <th>2</th>\n      <td>id_000a6266a</td>\n      <td>com_droga</td>\n      <td>48</td>\n      <td>D1</td>\n      <td>18bb41b2c</td>\n      <td>0.6280</td>\n      <td>0.5817</td>\n      <td>1.5540</td>\n      <td>-0.0764</td>\n      <td>-0.0323</td>\n      <td>...</td>\n      <td>-0.7250</td>\n      <td>-0.6297</td>\n      <td>0.6103</td>\n      <td>0.0223</td>\n      <td>-1.3240</td>\n      <td>-0.3174</td>\n      <td>-0.6417</td>\n      <td>-0.2187</td>\n      <td>-1.4080</td>\n      <td>0.6931</td>\n    </tr>\n    <tr>\n      <th>3</th>\n      <td>id_0015fd391</td>\n      <td>com_droga</td>\n      <td>48</td>\n      <td>D1</td>\n      <td>8c7f86626</td>\n      <td>-0.5138</td>\n      <td>-0.2491</td>\n      <td>-0.2656</td>\n      <td>0.5288</td>\n      <td>4.0620</td>\n      <td>...</td>\n      <td>-2.0990</td>\n      <td>-0.6441</td>\n      <td>-5.6300</td>\n      <td>-1.3780</td>\n      <td>-0.8632</td>\n      <td>-1.2880</td>\n      <td>-1.6210</td>\n      <td>-0.8784</td>\n      <td>-0.3876</td>\n      <td>-0.8154</td>\n    </tr>\n    <tr>\n      <th>4</th>\n      <td>id_001626bd3</td>\n      <td>com_droga</td>\n      <td>72</td>\n      <td>D2</td>\n      <td>7cbed3131</td>\n      <td>-0.3254</td>\n      <td>-0.4009</td>\n      <td>0.9700</td>\n      <td>0.6919</td>\n      <td>1.4180</td>\n      <td>...</td>\n      <td>0.0042</td>\n      <td>0.0048</td>\n      <td>0.6670</td>\n      <td>1.0690</td>\n      <td>0.5523</td>\n      <td>-0.3031</td>\n      <td>0.1094</td>\n      <td>0.2885</td>\n      <td>-0.3786</td>\n      <td>0.7125</td>\n    </tr>\n    <tr>\n      <th>...</th>\n      <td>...</td>\n      <td>...</td>\n      <td>...</td>\n      <td>...</td>\n      <td>...</td>\n      <td>...</td>\n      <td>...</td>\n      <td>...</td>\n      <td>...</td>\n      <td>...</td>\n      <td>...</td>\n      <td>...</td>\n      <td>...</td>\n      <td>...</td>\n      <td>...</td>\n      <td>...</td>\n      <td>...</td>\n      <td>...</td>\n      <td>...</td>\n      <td>...</td>\n      <td>...</td>\n    </tr>\n    <tr>\n      <th>23809</th>\n      <td>id_fffb1ceed</td>\n      <td>com_droga</td>\n      <td>24</td>\n      <td>D2</td>\n      <td>df1d0a5a1</td>\n      <td>0.1394</td>\n      <td>-0.0636</td>\n      <td>-0.1112</td>\n      <td>-0.5080</td>\n      <td>-0.4713</td>\n      <td>...</td>\n      <td>0.1969</td>\n      <td>0.0262</td>\n      <td>-0.8121</td>\n      <td>0.3434</td>\n      <td>0.5372</td>\n      <td>-0.3246</td>\n      <td>0.0631</td>\n      <td>0.9171</td>\n      <td>0.5258</td>\n      <td>0.4680</td>\n    </tr>\n    <tr>\n      <th>23810</th>\n      <td>id_fffb70c0c</td>\n      <td>com_droga</td>\n      <td>24</td>\n      <td>D2</td>\n      <td>ecf3b6b74</td>\n      <td>-1.3260</td>\n      <td>0.3478</td>\n      <td>-0.3743</td>\n      <td>0.9905</td>\n      <td>-0.7178</td>\n      <td>...</td>\n      <td>0.4286</td>\n      <td>0.4426</td>\n      <td>0.0423</td>\n      <td>-0.3195</td>\n      <td>-0.8086</td>\n      <td>-0.9798</td>\n      <td>-0.2084</td>\n      <td>-0.1224</td>\n      <td>-0.2715</td>\n      <td>0.3689</td>\n    </tr>\n    <tr>\n      <th>23811</th>\n      <td>id_fffc1c3f4</td>\n      <td>com_controle</td>\n      <td>48</td>\n      <td>D2</td>\n      <td>cacb2b860</td>\n      <td>0.3942</td>\n      <td>0.3756</td>\n      <td>0.3109</td>\n      <td>-0.7389</td>\n      <td>0.5505</td>\n      <td>...</td>\n      <td>0.5409</td>\n      <td>0.3755</td>\n      <td>0.7343</td>\n      <td>0.2807</td>\n      <td>0.4116</td>\n      <td>0.6422</td>\n      <td>0.2256</td>\n      <td>0.7592</td>\n      <td>0.6656</td>\n      <td>0.3808</td>\n    </tr>\n    <tr>\n      <th>23812</th>\n      <td>id_fffcb9e7c</td>\n      <td>com_droga</td>\n      <td>24</td>\n      <td>D1</td>\n      <td>8b87a7a83</td>\n      <td>0.6660</td>\n      <td>0.2324</td>\n      <td>0.4392</td>\n      <td>0.2044</td>\n      <td>0.8531</td>\n      <td>...</td>\n      <td>-0.1105</td>\n      <td>0.4258</td>\n      <td>-0.2012</td>\n      <td>0.1506</td>\n      <td>1.5230</td>\n      <td>0.7101</td>\n      <td>0.1732</td>\n      <td>0.7015</td>\n      <td>-0.6290</td>\n      <td>0.0740</td>\n    </tr>\n    <tr>\n      <th>23813</th>\n      <td>id_ffffdd77b</td>\n      <td>com_droga</td>\n      <td>72</td>\n      <td>D1</td>\n      <td>972f41291</td>\n      <td>-0.8598</td>\n      <td>1.0240</td>\n      <td>-0.1361</td>\n      <td>0.7952</td>\n      <td>-0.3611</td>\n      <td>...</td>\n      <td>-3.3890</td>\n      <td>-1.7450</td>\n      <td>-6.6300</td>\n      <td>-4.0950</td>\n      <td>-7.3860</td>\n      <td>-1.4160</td>\n      <td>-3.5770</td>\n      <td>-0.4775</td>\n      <td>-2.1500</td>\n      <td>-4.2520</td>\n    </tr>\n  </tbody>\n</table>\n<p>23814 rows × 877 columns</p>\n</div>",
      "text/plain": "                 id    tratamento  tempo dose      droga     g-0     g-1  \\\n0      id_000644bb2     com_droga     24   D1  b68db1d53  1.0620  0.5577   \n1      id_000779bfc     com_droga     72   D1  df89a8e5a  0.0743  0.4087   \n2      id_000a6266a     com_droga     48   D1  18bb41b2c  0.6280  0.5817   \n3      id_0015fd391     com_droga     48   D1  8c7f86626 -0.5138 -0.2491   \n4      id_001626bd3     com_droga     72   D2  7cbed3131 -0.3254 -0.4009   \n...             ...           ...    ...  ...        ...     ...     ...   \n23809  id_fffb1ceed     com_droga     24   D2  df1d0a5a1  0.1394 -0.0636   \n23810  id_fffb70c0c     com_droga     24   D2  ecf3b6b74 -1.3260  0.3478   \n23811  id_fffc1c3f4  com_controle     48   D2  cacb2b860  0.3942  0.3756   \n23812  id_fffcb9e7c     com_droga     24   D1  8b87a7a83  0.6660  0.2324   \n23813  id_ffffdd77b     com_droga     72   D1  972f41291 -0.8598  1.0240   \n\n          g-2     g-3     g-4  ...    c-90    c-91    c-92    c-93    c-94  \\\n0     -0.2479 -0.6208 -0.1944  ...  0.2862  0.2584  0.8076  0.5523 -0.1912   \n1      0.2991  0.0604  1.0190  ... -0.4265  0.7543  0.4708  0.0230  0.2957   \n2      1.5540 -0.0764 -0.0323  ... -0.7250 -0.6297  0.6103  0.0223 -1.3240   \n3     -0.2656  0.5288  4.0620  ... -2.0990 -0.6441 -5.6300 -1.3780 -0.8632   \n4      0.9700  0.6919  1.4180  ...  0.0042  0.0048  0.6670  1.0690  0.5523   \n...       ...     ...     ...  ...     ...     ...     ...     ...     ...   \n23809 -0.1112 -0.5080 -0.4713  ...  0.1969  0.0262 -0.8121  0.3434  0.5372   \n23810 -0.3743  0.9905 -0.7178  ...  0.4286  0.4426  0.0423 -0.3195 -0.8086   \n23811  0.3109 -0.7389  0.5505  ...  0.5409  0.3755  0.7343  0.2807  0.4116   \n23812  0.4392  0.2044  0.8531  ... -0.1105  0.4258 -0.2012  0.1506  1.5230   \n23813 -0.1361  0.7952 -0.3611  ... -3.3890 -1.7450 -6.6300 -4.0950 -7.3860   \n\n         c-95    c-96    c-97    c-98    c-99  \n0      0.6584 -0.3981  0.2139  0.3801  0.4176  \n1      0.4899  0.1522  0.1241  0.6077  0.7371  \n2     -0.3174 -0.6417 -0.2187 -1.4080  0.6931  \n3     -1.2880 -1.6210 -0.8784 -0.3876 -0.8154  \n4     -0.3031  0.1094  0.2885 -0.3786  0.7125  \n...       ...     ...     ...     ...     ...  \n23809 -0.3246  0.0631  0.9171  0.5258  0.4680  \n23810 -0.9798 -0.2084 -0.1224 -0.2715  0.3689  \n23811  0.6422  0.2256  0.7592  0.6656  0.3808  \n23812  0.7101  0.1732  0.7015 -0.6290  0.0740  \n23813 -1.4160 -3.5770 -0.4775 -2.1500 -4.2520  \n\n[23814 rows x 877 columns]"
     },
     "execution_count": 2,
     "metadata": {},
     "output_type": "execute_result"
    }
   ],
   "source": [
    "import pandas as pd\r\n",
    "\r\n",
    "data_url = 'https://github.com/alura-cursos/imersaodados3/blob/main/dados/dados_experimentos.zip?raw=true'\r\n",
    "\r\n",
    "data = pd.read_csv(data_url, compression= 'zip')\r\n",
    "\r\n",
    "data"
   ]
  },
  {
   "cell_type": "code",
   "execution_count": 7,
   "metadata": {},
   "outputs": [
    {
     "data": {
      "text/plain": "array(['com_droga', 'com_controle'], dtype=object)"
     },
     "execution_count": 7,
     "metadata": {},
     "output_type": "execute_result"
    }
   ],
   "source": [
    "#personal\r\n",
    "\r\n",
    "data.tratamento.unique() "
   ]
  },
  {
   "cell_type": "code",
   "execution_count": 10,
   "metadata": {},
   "outputs": [
    {
     "data": {
      "text/plain": "array(['b68db1d53', 'df89a8e5a', '18bb41b2c', ..., '573c787a2',\n       'b2fe3eca7', 'dd4a96d16'], dtype=object)"
     },
     "execution_count": 10,
     "metadata": {},
     "output_type": "execute_result"
    }
   ],
   "source": [
    "#personal\r\n",
    "\r\n",
    "data.droga.unique() "
   ]
  },
  {
   "cell_type": "code",
   "execution_count": 12,
   "metadata": {},
   "outputs": [
    {
     "data": {
      "text/plain": "3289"
     },
     "execution_count": 12,
     "metadata": {},
     "output_type": "execute_result"
    }
   ],
   "source": [
    "#personal\r\n",
    "\r\n",
    "len(data.droga.unique())"
   ]
  },
  {
   "cell_type": "markdown",
   "metadata": {},
   "source": [
    "Early on, when the dataframe was presented, one of my first thoughts was if only really had only two values in the column 'Tratamento', so i went and checked with `unique()`. After a little more video, Vanessa talked about each row being a culture that was being tested with a specific drug. When she said that I looked to the dataset to search for this information, and found it easily in the column 'droga'. After that i procced to investigate hom many drugs we were talking about, so i used `len()` with `unique()` to find how many drugs was in the dataset: 3289 different drugs."
   ]
  },
  {
   "cell_type": "code",
   "execution_count": 15,
   "metadata": {},
   "outputs": [
    {
     "data": {
      "text/html": "<div>\n<style scoped>\n    .dataframe tbody tr th:only-of-type {\n        vertical-align: middle;\n    }\n\n    .dataframe tbody tr th {\n        vertical-align: top;\n    }\n\n    .dataframe thead th {\n        text-align: right;\n    }\n</style>\n<table border=\"1\" class=\"dataframe\">\n  <thead>\n    <tr style=\"text-align: right;\">\n      <th></th>\n      <th>id</th>\n      <th>tratamento</th>\n      <th>tempo</th>\n      <th>dose</th>\n      <th>droga</th>\n      <th>g-0</th>\n      <th>g-1</th>\n      <th>g-2</th>\n      <th>g-3</th>\n      <th>g-4</th>\n      <th>...</th>\n      <th>c-90</th>\n      <th>c-91</th>\n      <th>c-92</th>\n      <th>c-93</th>\n      <th>c-94</th>\n      <th>c-95</th>\n      <th>c-96</th>\n      <th>c-97</th>\n      <th>c-98</th>\n      <th>c-99</th>\n    </tr>\n  </thead>\n  <tbody>\n    <tr>\n      <th>0</th>\n      <td>id_000644bb2</td>\n      <td>com_droga</td>\n      <td>24</td>\n      <td>D1</td>\n      <td>b68db1d53</td>\n      <td>1.0620</td>\n      <td>0.5577</td>\n      <td>-0.2479</td>\n      <td>-0.6208</td>\n      <td>-0.1944</td>\n      <td>...</td>\n      <td>0.2862</td>\n      <td>0.2584</td>\n      <td>0.8076</td>\n      <td>0.5523</td>\n      <td>-0.1912</td>\n      <td>0.6584</td>\n      <td>-0.3981</td>\n      <td>0.2139</td>\n      <td>0.3801</td>\n      <td>0.4176</td>\n    </tr>\n    <tr>\n      <th>1</th>\n      <td>id_000779bfc</td>\n      <td>com_droga</td>\n      <td>72</td>\n      <td>D1</td>\n      <td>df89a8e5a</td>\n      <td>0.0743</td>\n      <td>0.4087</td>\n      <td>0.2991</td>\n      <td>0.0604</td>\n      <td>1.0190</td>\n      <td>...</td>\n      <td>-0.4265</td>\n      <td>0.7543</td>\n      <td>0.4708</td>\n      <td>0.0230</td>\n      <td>0.2957</td>\n      <td>0.4899</td>\n      <td>0.1522</td>\n      <td>0.1241</td>\n      <td>0.6077</td>\n      <td>0.7371</td>\n    </tr>\n    <tr>\n      <th>2</th>\n      <td>id_000a6266a</td>\n      <td>com_droga</td>\n      <td>48</td>\n      <td>D1</td>\n      <td>18bb41b2c</td>\n      <td>0.6280</td>\n      <td>0.5817</td>\n      <td>1.5540</td>\n      <td>-0.0764</td>\n      <td>-0.0323</td>\n      <td>...</td>\n      <td>-0.7250</td>\n      <td>-0.6297</td>\n      <td>0.6103</td>\n      <td>0.0223</td>\n      <td>-1.3240</td>\n      <td>-0.3174</td>\n      <td>-0.6417</td>\n      <td>-0.2187</td>\n      <td>-1.4080</td>\n      <td>0.6931</td>\n    </tr>\n    <tr>\n      <th>3</th>\n      <td>id_0015fd391</td>\n      <td>com_droga</td>\n      <td>48</td>\n      <td>D1</td>\n      <td>8c7f86626</td>\n      <td>-0.5138</td>\n      <td>-0.2491</td>\n      <td>-0.2656</td>\n      <td>0.5288</td>\n      <td>4.0620</td>\n      <td>...</td>\n      <td>-2.0990</td>\n      <td>-0.6441</td>\n      <td>-5.6300</td>\n      <td>-1.3780</td>\n      <td>-0.8632</td>\n      <td>-1.2880</td>\n      <td>-1.6210</td>\n      <td>-0.8784</td>\n      <td>-0.3876</td>\n      <td>-0.8154</td>\n    </tr>\n    <tr>\n      <th>4</th>\n      <td>id_001626bd3</td>\n      <td>com_droga</td>\n      <td>72</td>\n      <td>D2</td>\n      <td>7cbed3131</td>\n      <td>-0.3254</td>\n      <td>-0.4009</td>\n      <td>0.9700</td>\n      <td>0.6919</td>\n      <td>1.4180</td>\n      <td>...</td>\n      <td>0.0042</td>\n      <td>0.0048</td>\n      <td>0.6670</td>\n      <td>1.0690</td>\n      <td>0.5523</td>\n      <td>-0.3031</td>\n      <td>0.1094</td>\n      <td>0.2885</td>\n      <td>-0.3786</td>\n      <td>0.7125</td>\n    </tr>\n  </tbody>\n</table>\n<p>5 rows × 877 columns</p>\n</div>",
      "text/plain": "             id tratamento  tempo dose      droga     g-0     g-1     g-2  \\\n0  id_000644bb2  com_droga     24   D1  b68db1d53  1.0620  0.5577 -0.2479   \n1  id_000779bfc  com_droga     72   D1  df89a8e5a  0.0743  0.4087  0.2991   \n2  id_000a6266a  com_droga     48   D1  18bb41b2c  0.6280  0.5817  1.5540   \n3  id_0015fd391  com_droga     48   D1  8c7f86626 -0.5138 -0.2491 -0.2656   \n4  id_001626bd3  com_droga     72   D2  7cbed3131 -0.3254 -0.4009  0.9700   \n\n      g-3     g-4  ...    c-90    c-91    c-92    c-93    c-94    c-95  \\\n0 -0.6208 -0.1944  ...  0.2862  0.2584  0.8076  0.5523 -0.1912  0.6584   \n1  0.0604  1.0190  ... -0.4265  0.7543  0.4708  0.0230  0.2957  0.4899   \n2 -0.0764 -0.0323  ... -0.7250 -0.6297  0.6103  0.0223 -1.3240 -0.3174   \n3  0.5288  4.0620  ... -2.0990 -0.6441 -5.6300 -1.3780 -0.8632 -1.2880   \n4  0.6919  1.4180  ...  0.0042  0.0048  0.6670  1.0690  0.5523 -0.3031   \n\n     c-96    c-97    c-98    c-99  \n0 -0.3981  0.2139  0.3801  0.4176  \n1  0.1522  0.1241  0.6077  0.7371  \n2 -0.6417 -0.2187 -1.4080  0.6931  \n3 -1.6210 -0.8784 -0.3876 -0.8154  \n4  0.1094  0.2885 -0.3786  0.7125  \n\n[5 rows x 877 columns]"
     },
     "execution_count": 15,
     "metadata": {},
     "output_type": "execute_result"
    }
   ],
   "source": [
    "data.head()"
   ]
  },
  {
   "cell_type": "code",
   "execution_count": 17,
   "metadata": {},
   "outputs": [
    {
     "data": {
      "text/plain": "(23814, 877)"
     },
     "execution_count": 17,
     "metadata": {},
     "output_type": "execute_result"
    }
   ],
   "source": [
    "data.shape"
   ]
  },
  {
   "cell_type": "code",
   "execution_count": 19,
   "metadata": {},
   "outputs": [
    {
     "data": {
      "text/plain": "0           com_droga\n1           com_droga\n2           com_droga\n3           com_droga\n4           com_droga\n             ...     \n23809       com_droga\n23810       com_droga\n23811    com_controle\n23812       com_droga\n23813       com_droga\nName: tratamento, Length: 23814, dtype: object"
     },
     "execution_count": 19,
     "metadata": {},
     "output_type": "execute_result"
    }
   ],
   "source": [
    "data['tratamento']"
   ]
  },
  {
   "cell_type": "code",
   "execution_count": 20,
   "metadata": {},
   "outputs": [
    {
     "data": {
      "text/plain": "array(['com_droga', 'com_controle'], dtype=object)"
     },
     "execution_count": 20,
     "metadata": {},
     "output_type": "execute_result"
    }
   ],
   "source": [
    "data['tratamento'].unique()"
   ]
  },
  {
   "cell_type": "markdown",
   "metadata": {},
   "source": [
    "Here, the instructor did the same that i thought. That is expected, as exploratory analysis is the first thing that should be done! 😎 "
   ]
  },
  {
   "cell_type": "code",
   "execution_count": 27,
   "metadata": {},
   "outputs": [
    {
     "data": {
      "text/plain": "array([24, 72, 48], dtype=int64)"
     },
     "execution_count": 27,
     "metadata": {},
     "output_type": "execute_result"
    }
   ],
   "source": [
    "data['tempo'].unique()"
   ]
  },
  {
   "cell_type": "code",
   "execution_count": 29,
   "metadata": {},
   "outputs": [
    {
     "data": {
      "text/plain": "array(['D1', 'D2'], dtype=object)"
     },
     "execution_count": 29,
     "metadata": {},
     "output_type": "execute_result"
    }
   ],
   "source": [
    "data['dose'].unique()"
   ]
  },
  {
   "cell_type": "code",
   "execution_count": 31,
   "metadata": {},
   "outputs": [
    {
     "data": {
      "text/plain": "array(['b68db1d53', 'df89a8e5a', '18bb41b2c', ..., '573c787a2',\n       'b2fe3eca7', 'dd4a96d16'], dtype=object)"
     },
     "execution_count": 31,
     "metadata": {},
     "output_type": "execute_result"
    }
   ],
   "source": [
    "data['droga'].unique()"
   ]
  },
  {
   "cell_type": "code",
   "execution_count": 33,
   "metadata": {},
   "outputs": [
    {
     "data": {
      "text/plain": "array([ 1.062 ,  0.0743,  0.628 , ...,  0.3942,  0.666 , -0.8598])"
     },
     "execution_count": 33,
     "metadata": {},
     "output_type": "execute_result"
    }
   ],
   "source": [
    "data['g-0'].unique()"
   ]
  },
  {
   "cell_type": "code",
   "execution_count": 38,
   "metadata": {},
   "outputs": [
    {
     "data": {
      "text/plain": "count    23814.000000\nmean         0.248366\nstd          1.393399\nmin         -5.513000\n25%         -0.473075\n50%         -0.008850\n75%          0.525700\nmax         10.000000\nName: g-0, dtype: float64"
     },
     "execution_count": 38,
     "metadata": {},
     "output_type": "execute_result"
    }
   ],
   "source": [
    "data['g-0'].describe() #pessoal"
   ]
  },
  {
   "cell_type": "code",
   "execution_count": 40,
   "metadata": {},
   "outputs": [
    {
     "data": {
      "text/plain": "com_droga       21948\ncom_controle     1866\nName: tratamento, dtype: int64"
     },
     "execution_count": 40,
     "metadata": {},
     "output_type": "execute_result"
    }
   ],
   "source": [
    "data['tratamento'].value_counts()"
   ]
  },
  {
   "cell_type": "markdown",
   "metadata": {},
   "source": [
    "At this point, 3 challenges were proposed:\r\n",
    "\r\n",
    "## Challenge 01: Why the column 'Tratamento' is so unbalanced?\r\n",
    "\r\n",
    "## Challenge 02: How to show the last 5 entries of a dataframe\r\n",
    "\r\n",
    "## Challenge 03: How to show the proportions of classes in a series, instead of the quantity of values?\r\n",
    "\r\n",
    "## Challenge 04: How many types of drugs were in the dataset\r\n",
    "\r\n",
    "In this point, i stopped the video and proceed to answer the challenges. \r\n",
    "\r\n",
    "The first that I will answer is the **Challenge 2**, because is the easier. To verify the last 5 entries, the Dataframe object has a method called `.tail()`. This method works similarly to the `.head()` method, the difference being that it gets the 5 last rows, if the arguments are left empty."
   ]
  },
  {
   "cell_type": "code",
   "execution_count": 44,
   "metadata": {},
   "outputs": [
    {
     "data": {
      "text/html": "<div>\n<style scoped>\n    .dataframe tbody tr th:only-of-type {\n        vertical-align: middle;\n    }\n\n    .dataframe tbody tr th {\n        vertical-align: top;\n    }\n\n    .dataframe thead th {\n        text-align: right;\n    }\n</style>\n<table border=\"1\" class=\"dataframe\">\n  <thead>\n    <tr style=\"text-align: right;\">\n      <th></th>\n      <th>id</th>\n      <th>tratamento</th>\n      <th>tempo</th>\n      <th>dose</th>\n      <th>droga</th>\n      <th>g-0</th>\n      <th>g-1</th>\n      <th>g-2</th>\n      <th>g-3</th>\n      <th>g-4</th>\n      <th>...</th>\n      <th>c-90</th>\n      <th>c-91</th>\n      <th>c-92</th>\n      <th>c-93</th>\n      <th>c-94</th>\n      <th>c-95</th>\n      <th>c-96</th>\n      <th>c-97</th>\n      <th>c-98</th>\n      <th>c-99</th>\n    </tr>\n  </thead>\n  <tbody>\n    <tr>\n      <th>23809</th>\n      <td>id_fffb1ceed</td>\n      <td>com_droga</td>\n      <td>24</td>\n      <td>D2</td>\n      <td>df1d0a5a1</td>\n      <td>0.1394</td>\n      <td>-0.0636</td>\n      <td>-0.1112</td>\n      <td>-0.5080</td>\n      <td>-0.4713</td>\n      <td>...</td>\n      <td>0.1969</td>\n      <td>0.0262</td>\n      <td>-0.8121</td>\n      <td>0.3434</td>\n      <td>0.5372</td>\n      <td>-0.3246</td>\n      <td>0.0631</td>\n      <td>0.9171</td>\n      <td>0.5258</td>\n      <td>0.4680</td>\n    </tr>\n    <tr>\n      <th>23810</th>\n      <td>id_fffb70c0c</td>\n      <td>com_droga</td>\n      <td>24</td>\n      <td>D2</td>\n      <td>ecf3b6b74</td>\n      <td>-1.3260</td>\n      <td>0.3478</td>\n      <td>-0.3743</td>\n      <td>0.9905</td>\n      <td>-0.7178</td>\n      <td>...</td>\n      <td>0.4286</td>\n      <td>0.4426</td>\n      <td>0.0423</td>\n      <td>-0.3195</td>\n      <td>-0.8086</td>\n      <td>-0.9798</td>\n      <td>-0.2084</td>\n      <td>-0.1224</td>\n      <td>-0.2715</td>\n      <td>0.3689</td>\n    </tr>\n    <tr>\n      <th>23811</th>\n      <td>id_fffc1c3f4</td>\n      <td>com_controle</td>\n      <td>48</td>\n      <td>D2</td>\n      <td>cacb2b860</td>\n      <td>0.3942</td>\n      <td>0.3756</td>\n      <td>0.3109</td>\n      <td>-0.7389</td>\n      <td>0.5505</td>\n      <td>...</td>\n      <td>0.5409</td>\n      <td>0.3755</td>\n      <td>0.7343</td>\n      <td>0.2807</td>\n      <td>0.4116</td>\n      <td>0.6422</td>\n      <td>0.2256</td>\n      <td>0.7592</td>\n      <td>0.6656</td>\n      <td>0.3808</td>\n    </tr>\n    <tr>\n      <th>23812</th>\n      <td>id_fffcb9e7c</td>\n      <td>com_droga</td>\n      <td>24</td>\n      <td>D1</td>\n      <td>8b87a7a83</td>\n      <td>0.6660</td>\n      <td>0.2324</td>\n      <td>0.4392</td>\n      <td>0.2044</td>\n      <td>0.8531</td>\n      <td>...</td>\n      <td>-0.1105</td>\n      <td>0.4258</td>\n      <td>-0.2012</td>\n      <td>0.1506</td>\n      <td>1.5230</td>\n      <td>0.7101</td>\n      <td>0.1732</td>\n      <td>0.7015</td>\n      <td>-0.6290</td>\n      <td>0.0740</td>\n    </tr>\n    <tr>\n      <th>23813</th>\n      <td>id_ffffdd77b</td>\n      <td>com_droga</td>\n      <td>72</td>\n      <td>D1</td>\n      <td>972f41291</td>\n      <td>-0.8598</td>\n      <td>1.0240</td>\n      <td>-0.1361</td>\n      <td>0.7952</td>\n      <td>-0.3611</td>\n      <td>...</td>\n      <td>-3.3890</td>\n      <td>-1.7450</td>\n      <td>-6.6300</td>\n      <td>-4.0950</td>\n      <td>-7.3860</td>\n      <td>-1.4160</td>\n      <td>-3.5770</td>\n      <td>-0.4775</td>\n      <td>-2.1500</td>\n      <td>-4.2520</td>\n    </tr>\n  </tbody>\n</table>\n<p>5 rows × 877 columns</p>\n</div>",
      "text/plain": "                 id    tratamento  tempo dose      droga     g-0     g-1  \\\n23809  id_fffb1ceed     com_droga     24   D2  df1d0a5a1  0.1394 -0.0636   \n23810  id_fffb70c0c     com_droga     24   D2  ecf3b6b74 -1.3260  0.3478   \n23811  id_fffc1c3f4  com_controle     48   D2  cacb2b860  0.3942  0.3756   \n23812  id_fffcb9e7c     com_droga     24   D1  8b87a7a83  0.6660  0.2324   \n23813  id_ffffdd77b     com_droga     72   D1  972f41291 -0.8598  1.0240   \n\n          g-2     g-3     g-4  ...    c-90    c-91    c-92    c-93    c-94  \\\n23809 -0.1112 -0.5080 -0.4713  ...  0.1969  0.0262 -0.8121  0.3434  0.5372   \n23810 -0.3743  0.9905 -0.7178  ...  0.4286  0.4426  0.0423 -0.3195 -0.8086   \n23811  0.3109 -0.7389  0.5505  ...  0.5409  0.3755  0.7343  0.2807  0.4116   \n23812  0.4392  0.2044  0.8531  ... -0.1105  0.4258 -0.2012  0.1506  1.5230   \n23813 -0.1361  0.7952 -0.3611  ... -3.3890 -1.7450 -6.6300 -4.0950 -7.3860   \n\n         c-95    c-96    c-97    c-98    c-99  \n23809 -0.3246  0.0631  0.9171  0.5258  0.4680  \n23810 -0.9798 -0.2084 -0.1224 -0.2715  0.3689  \n23811  0.6422  0.2256  0.7592  0.6656  0.3808  \n23812  0.7101  0.1732  0.7015 -0.6290  0.0740  \n23813 -1.4160 -3.5770 -0.4775 -2.1500 -4.2520  \n\n[5 rows x 877 columns]"
     },
     "execution_count": 44,
     "metadata": {},
     "output_type": "execute_result"
    }
   ],
   "source": [
    "# Personal \r\n",
    "# Challenge 2 answer\r\n",
    "\r\n",
    "data.tail()"
   ]
  },
  {
   "cell_type": "markdown",
   "metadata": {},
   "source": [
    "My next answers is relative to **Challenge 3**. When i saw that challenge the 'brute way' was the first thing that came to my mind. What i mean by 'brute way'? Well..."
   ]
  },
  {
   "cell_type": "code",
   "execution_count": 56,
   "metadata": {},
   "outputs": [
    {
     "data": {
      "text/plain": "com_droga       0.921643\ncom_controle    0.078357\nName: tratamento, dtype: float64"
     },
     "execution_count": 56,
     "metadata": {},
     "output_type": "execute_result"
    }
   ],
   "source": [
    "# Personal \r\n",
    "# Challenge 3 answer\r\n",
    "\r\n",
    "proportions = data['tratamento'].value_counts() / data['tratamento'].value_counts().sum()\r\n",
    "proportions "
   ]
  },
  {
   "cell_type": "markdown",
   "metadata": {},
   "source": [
    "Now that i did it, maybe is not so brute at all 🙈 But when i was thinking, i thought that maybe there is a method to do this inside pandas... So i will check the documentation really quick, just a moment \r\n",
    "\r\n",
    "👨‍💻👨‍💻👩‍💻\r\n",
    "\r\n",
    "ooohhhh, i told you that was a beautiful way! The `.value_counts()` method has a `normalize` parameter! If a set this to `True`, i can get exactly what i want in just ONE function call!!! So beautiful 😍"
   ]
  },
  {
   "cell_type": "code",
   "execution_count": 54,
   "metadata": {},
   "outputs": [
    {
     "data": {
      "text/plain": "com_droga       0.921643\ncom_controle    0.078357\nName: tratamento, dtype: float64"
     },
     "execution_count": 54,
     "metadata": {},
     "output_type": "execute_result"
    }
   ],
   "source": [
    "# Personal \r\n",
    "# Challenge 3 answer\r\n",
    "\r\n",
    "proportions = data['tratamento'].value_counts(normalize=True)\r\n",
    "proportions"
   ]
  },
  {
   "cell_type": "markdown",
   "metadata": {},
   "source": [
    "Next answer, here we go! Actually, the **Challenge 4** was already done in my early inquiries 🙈 So i will reproduce the code that i did before below 👇"
   ]
  },
  {
   "cell_type": "code",
   "execution_count": 57,
   "metadata": {},
   "outputs": [
    {
     "data": {
      "text/plain": "3289"
     },
     "execution_count": 57,
     "metadata": {},
     "output_type": "execute_result"
    }
   ],
   "source": [
    "# Personal \r\n",
    "# Challenge 4 answer\r\n",
    "\r\n",
    "len(data.droga.unique())"
   ]
  },
  {
   "cell_type": "markdown",
   "metadata": {},
   "source": [
    "Now that is 3 answers! Way to go, me! :P And know is the \"hard\" one, the **Challenge 01**... \r\n",
    "\r\n",
    "I leave this one last because is the one that i am not totally sure, maybe the instructors will answer latter in the video. In my humble understanding of the the dataset, the reason for the unbalacement is the very nature of the control group. What i mean is, if you are testing, i dont know, 10 drugs for headache and checking they efficiency, you will only need one control sample, as it will be the base to the comparison with the 10 headache drugs. Maybe it isn't, as a said, right now i am not totally sure of it... Well, when i finish, probably  will check my peers works too and the doubt will be cleared! :D\r\n",
    "\r\n",
    "Now that the challenge are answered, lets return to the video 🍿"
   ]
  },
  {
   "cell_type": "code",
   "execution_count": 61,
   "metadata": {},
   "outputs": [
    {
     "data": {
      "text/plain": "D1    12147\nD2    11667\nName: dose, dtype: int64"
     },
     "execution_count": 61,
     "metadata": {},
     "output_type": "execute_result"
    }
   ],
   "source": [
    "data['dose'].value_counts()"
   ]
  },
  {
   "cell_type": "code",
   "execution_count": 62,
   "metadata": {},
   "outputs": [
    {
     "data": {
      "text/plain": "com_droga       0.921643\ncom_controle    0.078357\nName: tratamento, dtype: float64"
     },
     "execution_count": 62,
     "metadata": {},
     "output_type": "execute_result"
    }
   ],
   "source": [
    "data['tratamento'].value_counts(normalize= True)"
   ]
  },
  {
   "cell_type": "markdown",
   "metadata": {},
   "source": [
    "*Well, i would be surprised by that if i had not searched before* 🤣"
   ]
  },
  {
   "cell_type": "code",
   "execution_count": 63,
   "metadata": {},
   "outputs": [
    {
     "data": {
      "text/plain": "D1    0.510078\nD2    0.489922\nName: dose, dtype: float64"
     },
     "execution_count": 63,
     "metadata": {},
     "output_type": "execute_result"
    }
   ],
   "source": [
    "data['dose'].value_counts(normalize=True)"
   ]
  },
  {
   "cell_type": "code",
   "execution_count": 64,
   "metadata": {},
   "outputs": [
    {
     "data": {
      "text/plain": "<AxesSubplot:ylabel='tratamento'>"
     },
     "execution_count": 64,
     "metadata": {},
     "output_type": "execute_result"
    },
    {
     "data": {
      "image/png": "[encoded data removed]",
      "text/plain": "<Figure size 432x288 with 1 Axes>"
     },
     "metadata": {},
     "output_type": "display_data"
    }
   ],
   "source": [
    "data['tratamento'].value_counts().plot.pie()"
   ]
  },
  {
   "cell_type": "markdown",
   "metadata": {},
   "source": [
    "*i just want to leave registered that i really hate pie charts, because i don't think that they are informative at all* 👀"
   ]
  },
  {
   "cell_type": "code",
   "execution_count": 66,
   "metadata": {},
   "outputs": [
    {
     "data": {
      "text/plain": "<AxesSubplot:ylabel='tempo'>"
     },
     "execution_count": 66,
     "metadata": {},
     "output_type": "execute_result"
    },
    {
     "data": {
      "image/png": "[encoded data removed]",
      "text/plain": "<Figure size 432x288 with 1 Axes>"
     },
     "metadata": {},
     "output_type": "display_data"
    }
   ],
   "source": [
    "data['tempo'].value_counts().plot.pie()"
   ]
  },
  {
   "cell_type": "markdown",
   "metadata": {},
   "source": [
    "*i mean... look at this graph, for god's sake!*"
   ]
  },
  {
   "cell_type": "markdown",
   "metadata": {},
   "source": [
    "*And that what Thiago said one minute later.🤣 Maybe i will tatoo this quote: Don't use types of graphs that have food names*"
   ]
  },
  {
   "cell_type": "code",
   "execution_count": 67,
   "metadata": {},
   "outputs": [
    {
     "data": {
      "text/plain": "<AxesSubplot:>"
     },
     "execution_count": 67,
     "metadata": {},
     "output_type": "execute_result"
    },
    {
     "data": {
      "image/png": "[encoded data removed]",
      "text/plain": "<Figure size 432x288 with 1 Axes>"
     },
     "metadata": {
      "needs_background": "light"
     },
     "output_type": "display_data"
    }
   ],
   "source": [
    "data['tempo'].value_counts().plot.bar()"
   ]
  },
  {
   "cell_type": "markdown",
   "metadata": {},
   "source": [
    "*That's better. More information to see, at least! We can improve it a little more putting values on top of the bars, or readjusting the limits...*"
   ]
  },
  {
   "cell_type": "code",
   "execution_count": 73,
   "metadata": {},
   "outputs": [
    {
     "data": {
      "text/html": "<div>\n<style scoped>\n    .dataframe tbody tr th:only-of-type {\n        vertical-align: middle;\n    }\n\n    .dataframe tbody tr th {\n        vertical-align: top;\n    }\n\n    .dataframe thead th {\n        text-align: right;\n    }\n</style>\n<table border=\"1\" class=\"dataframe\">\n  <thead>\n    <tr style=\"text-align: right;\">\n      <th></th>\n      <th>id</th>\n      <th>tratamento</th>\n      <th>tempo</th>\n      <th>dose</th>\n      <th>droga</th>\n      <th>g-0</th>\n      <th>g-1</th>\n      <th>g-2</th>\n      <th>g-3</th>\n      <th>g-4</th>\n      <th>...</th>\n      <th>c-90</th>\n      <th>c-91</th>\n      <th>c-92</th>\n      <th>c-93</th>\n      <th>c-94</th>\n      <th>c-95</th>\n      <th>c-96</th>\n      <th>c-97</th>\n      <th>c-98</th>\n      <th>c-99</th>\n    </tr>\n  </thead>\n  <tbody>\n    <tr>\n      <th>0</th>\n      <td>id_000644bb2</td>\n      <td>com_droga</td>\n      <td>24</td>\n      <td>D1</td>\n      <td>b68db1d53</td>\n      <td>1.0620</td>\n      <td>0.5577</td>\n      <td>-0.2479</td>\n      <td>-0.6208</td>\n      <td>-0.1944</td>\n      <td>...</td>\n      <td>0.2862</td>\n      <td>0.2584</td>\n      <td>0.8076</td>\n      <td>0.5523</td>\n      <td>-0.1912</td>\n      <td>0.6584</td>\n      <td>-0.3981</td>\n      <td>0.2139</td>\n      <td>0.3801</td>\n      <td>0.4176</td>\n    </tr>\n    <tr>\n      <th>1</th>\n      <td>id_000779bfc</td>\n      <td>com_droga</td>\n      <td>72</td>\n      <td>D1</td>\n      <td>df89a8e5a</td>\n      <td>0.0743</td>\n      <td>0.4087</td>\n      <td>0.2991</td>\n      <td>0.0604</td>\n      <td>1.0190</td>\n      <td>...</td>\n      <td>-0.4265</td>\n      <td>0.7543</td>\n      <td>0.4708</td>\n      <td>0.0230</td>\n      <td>0.2957</td>\n      <td>0.4899</td>\n      <td>0.1522</td>\n      <td>0.1241</td>\n      <td>0.6077</td>\n      <td>0.7371</td>\n    </tr>\n    <tr>\n      <th>2</th>\n      <td>id_000a6266a</td>\n      <td>com_droga</td>\n      <td>48</td>\n      <td>D1</td>\n      <td>18bb41b2c</td>\n      <td>0.6280</td>\n      <td>0.5817</td>\n      <td>1.5540</td>\n      <td>-0.0764</td>\n      <td>-0.0323</td>\n      <td>...</td>\n      <td>-0.7250</td>\n      <td>-0.6297</td>\n      <td>0.6103</td>\n      <td>0.0223</td>\n      <td>-1.3240</td>\n      <td>-0.3174</td>\n      <td>-0.6417</td>\n      <td>-0.2187</td>\n      <td>-1.4080</td>\n      <td>0.6931</td>\n    </tr>\n    <tr>\n      <th>6</th>\n      <td>id_001bd861f</td>\n      <td>com_droga</td>\n      <td>24</td>\n      <td>D2</td>\n      <td>746ca1f5a</td>\n      <td>2.0440</td>\n      <td>1.7000</td>\n      <td>-1.5390</td>\n      <td>5.9440</td>\n      <td>-2.1670</td>\n      <td>...</td>\n      <td>0.1855</td>\n      <td>1.1720</td>\n      <td>0.8325</td>\n      <td>0.6486</td>\n      <td>0.8090</td>\n      <td>1.5880</td>\n      <td>2.4670</td>\n      <td>0.0357</td>\n      <td>0.1351</td>\n      <td>-0.3179</td>\n    </tr>\n    <tr>\n      <th>7</th>\n      <td>id_0020d0484</td>\n      <td>com_droga</td>\n      <td>48</td>\n      <td>D1</td>\n      <td>8b87a7a83</td>\n      <td>0.2711</td>\n      <td>0.5133</td>\n      <td>-0.1327</td>\n      <td>2.5950</td>\n      <td>0.6980</td>\n      <td>...</td>\n      <td>0.3230</td>\n      <td>-0.4140</td>\n      <td>0.2532</td>\n      <td>0.0513</td>\n      <td>0.8600</td>\n      <td>1.4250</td>\n      <td>0.6633</td>\n      <td>0.4562</td>\n      <td>-0.9622</td>\n      <td>0.0260</td>\n    </tr>\n  </tbody>\n</table>\n<p>5 rows × 877 columns</p>\n</div>",
      "text/plain": "             id tratamento  tempo dose      droga     g-0     g-1     g-2  \\\n0  id_000644bb2  com_droga     24   D1  b68db1d53  1.0620  0.5577 -0.2479   \n1  id_000779bfc  com_droga     72   D1  df89a8e5a  0.0743  0.4087  0.2991   \n2  id_000a6266a  com_droga     48   D1  18bb41b2c  0.6280  0.5817  1.5540   \n6  id_001bd861f  com_droga     24   D2  746ca1f5a  2.0440  1.7000 -1.5390   \n7  id_0020d0484  com_droga     48   D1  8b87a7a83  0.2711  0.5133 -0.1327   \n\n      g-3     g-4  ...    c-90    c-91    c-92    c-93    c-94    c-95  \\\n0 -0.6208 -0.1944  ...  0.2862  0.2584  0.8076  0.5523 -0.1912  0.6584   \n1  0.0604  1.0190  ... -0.4265  0.7543  0.4708  0.0230  0.2957  0.4899   \n2 -0.0764 -0.0323  ... -0.7250 -0.6297  0.6103  0.0223 -1.3240 -0.3174   \n6  5.9440 -2.1670  ...  0.1855  1.1720  0.8325  0.6486  0.8090  1.5880   \n7  2.5950  0.6980  ...  0.3230 -0.4140  0.2532  0.0513  0.8600  1.4250   \n\n     c-96    c-97    c-98    c-99  \n0 -0.3981  0.2139  0.3801  0.4176  \n1  0.1522  0.1241  0.6077  0.7371  \n2 -0.6417 -0.2187 -1.4080  0.6931  \n6  2.4670  0.0357  0.1351 -0.3179  \n7  0.6633  0.4562 -0.9622  0.0260  \n\n[5 rows x 877 columns]"
     },
     "execution_count": 73,
     "metadata": {},
     "output_type": "execute_result"
    }
   ],
   "source": [
    "dados_filtrados = data[data['g-0'] > 0]\r\n",
    "dados_filtrados.head()"
   ]
  },
  {
   "cell_type": "markdown",
   "metadata": {},
   "source": [
    "*Four more challenges! I will leave it to do it at the end of the video, because is already at the final moments.*"
   ]
  },
  {
   "cell_type": "markdown",
   "metadata": {},
   "source": [
    "The end! After three hours of play and stop, the lesson finished! Now i will finish the challenges proposed:\r\n",
    "\r\n",
    "## Challenge 05: Search in the documentation of pandas the method `query`\r\n",
    "\r\n",
    "## Challenge 06: Rename the columns taking the hyphens off\r\n",
    "\r\n",
    "## Challenge 07: Making the graphs more beautifuls using matplot\r\n",
    "\r\n",
    "## Challenge 08: Summarize what you have learned from the data\r\n",
    "\r\n",
    "This time i will proceed in the numerical order. So, first one, **Challenge 05**! I admit, i don't use the query method daily, so i really don't know about it, so i will search a bit.\r\n",
    "\r\n",
    "👨‍💻👨‍💻👨‍💻\r\n",
    "\r\n",
    "Ok, i think i get it. Not very 'pythonic' to me. I will do a example with the same filter done before in the class, and one more to see if it will work."
   ]
  },
  {
   "cell_type": "code",
   "execution_count": 75,
   "metadata": {},
   "outputs": [
    {
     "data": {
      "text/html": "<div>\n<style scoped>\n    .dataframe tbody tr th:only-of-type {\n        vertical-align: middle;\n    }\n\n    .dataframe tbody tr th {\n        vertical-align: top;\n    }\n\n    .dataframe thead th {\n        text-align: right;\n    }\n</style>\n<table border=\"1\" class=\"dataframe\">\n  <thead>\n    <tr style=\"text-align: right;\">\n      <th></th>\n      <th>id</th>\n      <th>tratamento</th>\n      <th>tempo</th>\n      <th>dose</th>\n      <th>droga</th>\n      <th>g-0</th>\n      <th>g-1</th>\n      <th>g-2</th>\n      <th>g-3</th>\n      <th>g-4</th>\n      <th>...</th>\n      <th>c-90</th>\n      <th>c-91</th>\n      <th>c-92</th>\n      <th>c-93</th>\n      <th>c-94</th>\n      <th>c-95</th>\n      <th>c-96</th>\n      <th>c-97</th>\n      <th>c-98</th>\n      <th>c-99</th>\n    </tr>\n  </thead>\n  <tbody>\n    <tr>\n      <th>0</th>\n      <td>id_000644bb2</td>\n      <td>com_droga</td>\n      <td>24</td>\n      <td>D1</td>\n      <td>b68db1d53</td>\n      <td>1.0620</td>\n      <td>0.5577</td>\n      <td>-0.2479</td>\n      <td>-0.6208</td>\n      <td>-0.1944</td>\n      <td>...</td>\n      <td>0.2862</td>\n      <td>0.2584</td>\n      <td>0.8076</td>\n      <td>0.5523</td>\n      <td>-0.1912</td>\n      <td>0.6584</td>\n      <td>-0.3981</td>\n      <td>0.2139</td>\n      <td>0.3801</td>\n      <td>0.4176</td>\n    </tr>\n    <tr>\n      <th>1</th>\n      <td>id_000779bfc</td>\n      <td>com_droga</td>\n      <td>72</td>\n      <td>D1</td>\n      <td>df89a8e5a</td>\n      <td>0.0743</td>\n      <td>0.4087</td>\n      <td>0.2991</td>\n      <td>0.0604</td>\n      <td>1.0190</td>\n      <td>...</td>\n      <td>-0.4265</td>\n      <td>0.7543</td>\n      <td>0.4708</td>\n      <td>0.0230</td>\n      <td>0.2957</td>\n      <td>0.4899</td>\n      <td>0.1522</td>\n      <td>0.1241</td>\n      <td>0.6077</td>\n      <td>0.7371</td>\n    </tr>\n    <tr>\n      <th>2</th>\n      <td>id_000a6266a</td>\n      <td>com_droga</td>\n      <td>48</td>\n      <td>D1</td>\n      <td>18bb41b2c</td>\n      <td>0.6280</td>\n      <td>0.5817</td>\n      <td>1.5540</td>\n      <td>-0.0764</td>\n      <td>-0.0323</td>\n      <td>...</td>\n      <td>-0.7250</td>\n      <td>-0.6297</td>\n      <td>0.6103</td>\n      <td>0.0223</td>\n      <td>-1.3240</td>\n      <td>-0.3174</td>\n      <td>-0.6417</td>\n      <td>-0.2187</td>\n      <td>-1.4080</td>\n      <td>0.6931</td>\n    </tr>\n    <tr>\n      <th>6</th>\n      <td>id_001bd861f</td>\n      <td>com_droga</td>\n      <td>24</td>\n      <td>D2</td>\n      <td>746ca1f5a</td>\n      <td>2.0440</td>\n      <td>1.7000</td>\n      <td>-1.5390</td>\n      <td>5.9440</td>\n      <td>-2.1670</td>\n      <td>...</td>\n      <td>0.1855</td>\n      <td>1.1720</td>\n      <td>0.8325</td>\n      <td>0.6486</td>\n      <td>0.8090</td>\n      <td>1.5880</td>\n      <td>2.4670</td>\n      <td>0.0357</td>\n      <td>0.1351</td>\n      <td>-0.3179</td>\n    </tr>\n    <tr>\n      <th>7</th>\n      <td>id_0020d0484</td>\n      <td>com_droga</td>\n      <td>48</td>\n      <td>D1</td>\n      <td>8b87a7a83</td>\n      <td>0.2711</td>\n      <td>0.5133</td>\n      <td>-0.1327</td>\n      <td>2.5950</td>\n      <td>0.6980</td>\n      <td>...</td>\n      <td>0.3230</td>\n      <td>-0.4140</td>\n      <td>0.2532</td>\n      <td>0.0513</td>\n      <td>0.8600</td>\n      <td>1.4250</td>\n      <td>0.6633</td>\n      <td>0.4562</td>\n      <td>-0.9622</td>\n      <td>0.0260</td>\n    </tr>\n    <tr>\n      <th>...</th>\n      <td>...</td>\n      <td>...</td>\n      <td>...</td>\n      <td>...</td>\n      <td>...</td>\n      <td>...</td>\n      <td>...</td>\n      <td>...</td>\n      <td>...</td>\n      <td>...</td>\n      <td>...</td>\n      <td>...</td>\n      <td>...</td>\n      <td>...</td>\n      <td>...</td>\n      <td>...</td>\n      <td>...</td>\n      <td>...</td>\n      <td>...</td>\n      <td>...</td>\n      <td>...</td>\n    </tr>\n    <tr>\n      <th>23807</th>\n      <td>id_fff7e6992</td>\n      <td>com_droga</td>\n      <td>48</td>\n      <td>D1</td>\n      <td>a28556d51</td>\n      <td>0.1420</td>\n      <td>-0.3696</td>\n      <td>-0.0093</td>\n      <td>-0.2495</td>\n      <td>-0.0175</td>\n      <td>...</td>\n      <td>0.8775</td>\n      <td>0.5230</td>\n      <td>0.1589</td>\n      <td>0.7715</td>\n      <td>0.5497</td>\n      <td>0.6929</td>\n      <td>0.3738</td>\n      <td>0.8636</td>\n      <td>0.4494</td>\n      <td>0.1218</td>\n    </tr>\n    <tr>\n      <th>23808</th>\n      <td>id_fff8c2444</td>\n      <td>com_droga</td>\n      <td>72</td>\n      <td>D1</td>\n      <td>6c3a459be</td>\n      <td>0.1608</td>\n      <td>-1.0500</td>\n      <td>0.2551</td>\n      <td>-0.2239</td>\n      <td>-0.2431</td>\n      <td>...</td>\n      <td>0.0789</td>\n      <td>0.3538</td>\n      <td>0.0558</td>\n      <td>0.3377</td>\n      <td>-0.4753</td>\n      <td>-0.2504</td>\n      <td>-0.7415</td>\n      <td>0.8413</td>\n      <td>-0.4259</td>\n      <td>0.2434</td>\n    </tr>\n    <tr>\n      <th>23809</th>\n      <td>id_fffb1ceed</td>\n      <td>com_droga</td>\n      <td>24</td>\n      <td>D2</td>\n      <td>df1d0a5a1</td>\n      <td>0.1394</td>\n      <td>-0.0636</td>\n      <td>-0.1112</td>\n      <td>-0.5080</td>\n      <td>-0.4713</td>\n      <td>...</td>\n      <td>0.1969</td>\n      <td>0.0262</td>\n      <td>-0.8121</td>\n      <td>0.3434</td>\n      <td>0.5372</td>\n      <td>-0.3246</td>\n      <td>0.0631</td>\n      <td>0.9171</td>\n      <td>0.5258</td>\n      <td>0.4680</td>\n    </tr>\n    <tr>\n      <th>23811</th>\n      <td>id_fffc1c3f4</td>\n      <td>com_controle</td>\n      <td>48</td>\n      <td>D2</td>\n      <td>cacb2b860</td>\n      <td>0.3942</td>\n      <td>0.3756</td>\n      <td>0.3109</td>\n      <td>-0.7389</td>\n      <td>0.5505</td>\n      <td>...</td>\n      <td>0.5409</td>\n      <td>0.3755</td>\n      <td>0.7343</td>\n      <td>0.2807</td>\n      <td>0.4116</td>\n      <td>0.6422</td>\n      <td>0.2256</td>\n      <td>0.7592</td>\n      <td>0.6656</td>\n      <td>0.3808</td>\n    </tr>\n    <tr>\n      <th>23812</th>\n      <td>id_fffcb9e7c</td>\n      <td>com_droga</td>\n      <td>24</td>\n      <td>D1</td>\n      <td>8b87a7a83</td>\n      <td>0.6660</td>\n      <td>0.2324</td>\n      <td>0.4392</td>\n      <td>0.2044</td>\n      <td>0.8531</td>\n      <td>...</td>\n      <td>-0.1105</td>\n      <td>0.4258</td>\n      <td>-0.2012</td>\n      <td>0.1506</td>\n      <td>1.5230</td>\n      <td>0.7101</td>\n      <td>0.1732</td>\n      <td>0.7015</td>\n      <td>-0.6290</td>\n      <td>0.0740</td>\n    </tr>\n  </tbody>\n</table>\n<p>11769 rows × 877 columns</p>\n</div>",
      "text/plain": "                 id    tratamento  tempo dose      droga     g-0     g-1  \\\n0      id_000644bb2     com_droga     24   D1  b68db1d53  1.0620  0.5577   \n1      id_000779bfc     com_droga     72   D1  df89a8e5a  0.0743  0.4087   \n2      id_000a6266a     com_droga     48   D1  18bb41b2c  0.6280  0.5817   \n6      id_001bd861f     com_droga     24   D2  746ca1f5a  2.0440  1.7000   \n7      id_0020d0484     com_droga     48   D1  8b87a7a83  0.2711  0.5133   \n...             ...           ...    ...  ...        ...     ...     ...   \n23807  id_fff7e6992     com_droga     48   D1  a28556d51  0.1420 -0.3696   \n23808  id_fff8c2444     com_droga     72   D1  6c3a459be  0.1608 -1.0500   \n23809  id_fffb1ceed     com_droga     24   D2  df1d0a5a1  0.1394 -0.0636   \n23811  id_fffc1c3f4  com_controle     48   D2  cacb2b860  0.3942  0.3756   \n23812  id_fffcb9e7c     com_droga     24   D1  8b87a7a83  0.6660  0.2324   \n\n          g-2     g-3     g-4  ...    c-90    c-91    c-92    c-93    c-94  \\\n0     -0.2479 -0.6208 -0.1944  ...  0.2862  0.2584  0.8076  0.5523 -0.1912   \n1      0.2991  0.0604  1.0190  ... -0.4265  0.7543  0.4708  0.0230  0.2957   \n2      1.5540 -0.0764 -0.0323  ... -0.7250 -0.6297  0.6103  0.0223 -1.3240   \n6     -1.5390  5.9440 -2.1670  ...  0.1855  1.1720  0.8325  0.6486  0.8090   \n7     -0.1327  2.5950  0.6980  ...  0.3230 -0.4140  0.2532  0.0513  0.8600   \n...       ...     ...     ...  ...     ...     ...     ...     ...     ...   \n23807 -0.0093 -0.2495 -0.0175  ...  0.8775  0.5230  0.1589  0.7715  0.5497   \n23808  0.2551 -0.2239 -0.2431  ...  0.0789  0.3538  0.0558  0.3377 -0.4753   \n23809 -0.1112 -0.5080 -0.4713  ...  0.1969  0.0262 -0.8121  0.3434  0.5372   \n23811  0.3109 -0.7389  0.5505  ...  0.5409  0.3755  0.7343  0.2807  0.4116   \n23812  0.4392  0.2044  0.8531  ... -0.1105  0.4258 -0.2012  0.1506  1.5230   \n\n         c-95    c-96    c-97    c-98    c-99  \n0      0.6584 -0.3981  0.2139  0.3801  0.4176  \n1      0.4899  0.1522  0.1241  0.6077  0.7371  \n2     -0.3174 -0.6417 -0.2187 -1.4080  0.6931  \n6      1.5880  2.4670  0.0357  0.1351 -0.3179  \n7      1.4250  0.6633  0.4562 -0.9622  0.0260  \n...       ...     ...     ...     ...     ...  \n23807  0.6929  0.3738  0.8636  0.4494  0.1218  \n23808 -0.2504 -0.7415  0.8413 -0.4259  0.2434  \n23809 -0.3246  0.0631  0.9171  0.5258  0.4680  \n23811  0.6422  0.2256  0.7592  0.6656  0.3808  \n23812  0.7101  0.1732  0.7015 -0.6290  0.0740  \n\n[11769 rows x 877 columns]"
     },
     "execution_count": 75,
     "metadata": {},
     "output_type": "execute_result"
    }
   ],
   "source": [
    "data.query('`g-0` > 0')"
   ]
  },
  {
   "cell_type": "markdown",
   "metadata": {},
   "source": [
    "That worked alright. I had to put backticks, because special characters can't be use as variables names, and so the expression goes haywire if i doesn't specify columns with the backticks. One more to prove it works!"
   ]
  },
  {
   "cell_type": "code",
   "execution_count": 78,
   "metadata": {},
   "outputs": [
    {
     "data": {
      "text/html": "<div>\n<style scoped>\n    .dataframe tbody tr th:only-of-type {\n        vertical-align: middle;\n    }\n\n    .dataframe tbody tr th {\n        vertical-align: top;\n    }\n\n    .dataframe thead th {\n        text-align: right;\n    }\n</style>\n<table border=\"1\" class=\"dataframe\">\n  <thead>\n    <tr style=\"text-align: right;\">\n      <th></th>\n      <th>id</th>\n      <th>tratamento</th>\n      <th>tempo</th>\n      <th>dose</th>\n      <th>droga</th>\n      <th>g-0</th>\n      <th>g-1</th>\n      <th>g-2</th>\n      <th>g-3</th>\n      <th>g-4</th>\n      <th>...</th>\n      <th>c-90</th>\n      <th>c-91</th>\n      <th>c-92</th>\n      <th>c-93</th>\n      <th>c-94</th>\n      <th>c-95</th>\n      <th>c-96</th>\n      <th>c-97</th>\n      <th>c-98</th>\n      <th>c-99</th>\n    </tr>\n  </thead>\n  <tbody>\n    <tr>\n      <th>0</th>\n      <td>id_000644bb2</td>\n      <td>com_droga</td>\n      <td>24</td>\n      <td>D1</td>\n      <td>b68db1d53</td>\n      <td>1.0620</td>\n      <td>0.5577</td>\n      <td>-0.2479</td>\n      <td>-0.6208</td>\n      <td>-0.1944</td>\n      <td>...</td>\n      <td>0.2862</td>\n      <td>0.2584</td>\n      <td>0.8076</td>\n      <td>0.5523</td>\n      <td>-0.1912</td>\n      <td>0.6584</td>\n      <td>-0.3981</td>\n      <td>0.2139</td>\n      <td>0.3801</td>\n      <td>0.4176</td>\n    </tr>\n    <tr>\n      <th>2</th>\n      <td>id_000a6266a</td>\n      <td>com_droga</td>\n      <td>48</td>\n      <td>D1</td>\n      <td>18bb41b2c</td>\n      <td>0.6280</td>\n      <td>0.5817</td>\n      <td>1.5540</td>\n      <td>-0.0764</td>\n      <td>-0.0323</td>\n      <td>...</td>\n      <td>-0.7250</td>\n      <td>-0.6297</td>\n      <td>0.6103</td>\n      <td>0.0223</td>\n      <td>-1.3240</td>\n      <td>-0.3174</td>\n      <td>-0.6417</td>\n      <td>-0.2187</td>\n      <td>-1.4080</td>\n      <td>0.6931</td>\n    </tr>\n    <tr>\n      <th>4</th>\n      <td>id_001626bd3</td>\n      <td>com_droga</td>\n      <td>72</td>\n      <td>D2</td>\n      <td>7cbed3131</td>\n      <td>-0.3254</td>\n      <td>-0.4009</td>\n      <td>0.9700</td>\n      <td>0.6919</td>\n      <td>1.4180</td>\n      <td>...</td>\n      <td>0.0042</td>\n      <td>0.0048</td>\n      <td>0.6670</td>\n      <td>1.0690</td>\n      <td>0.5523</td>\n      <td>-0.3031</td>\n      <td>0.1094</td>\n      <td>0.2885</td>\n      <td>-0.3786</td>\n      <td>0.7125</td>\n    </tr>\n    <tr>\n      <th>6</th>\n      <td>id_001bd861f</td>\n      <td>com_droga</td>\n      <td>24</td>\n      <td>D2</td>\n      <td>746ca1f5a</td>\n      <td>2.0440</td>\n      <td>1.7000</td>\n      <td>-1.5390</td>\n      <td>5.9440</td>\n      <td>-2.1670</td>\n      <td>...</td>\n      <td>0.1855</td>\n      <td>1.1720</td>\n      <td>0.8325</td>\n      <td>0.6486</td>\n      <td>0.8090</td>\n      <td>1.5880</td>\n      <td>2.4670</td>\n      <td>0.0357</td>\n      <td>0.1351</td>\n      <td>-0.3179</td>\n    </tr>\n    <tr>\n      <th>11</th>\n      <td>id_0024bcd70</td>\n      <td>com_droga</td>\n      <td>48</td>\n      <td>D2</td>\n      <td>b877aa048</td>\n      <td>-0.3864</td>\n      <td>-0.5551</td>\n      <td>-0.8978</td>\n      <td>-0.2616</td>\n      <td>-0.2801</td>\n      <td>...</td>\n      <td>0.2856</td>\n      <td>-0.1953</td>\n      <td>0.7269</td>\n      <td>-0.5909</td>\n      <td>-0.0241</td>\n      <td>0.0299</td>\n      <td>0.2731</td>\n      <td>0.6306</td>\n      <td>0.8285</td>\n      <td>0.3605</td>\n    </tr>\n    <tr>\n      <th>...</th>\n      <td>...</td>\n      <td>...</td>\n      <td>...</td>\n      <td>...</td>\n      <td>...</td>\n      <td>...</td>\n      <td>...</td>\n      <td>...</td>\n      <td>...</td>\n      <td>...</td>\n      <td>...</td>\n      <td>...</td>\n      <td>...</td>\n      <td>...</td>\n      <td>...</td>\n      <td>...</td>\n      <td>...</td>\n      <td>...</td>\n      <td>...</td>\n      <td>...</td>\n      <td>...</td>\n    </tr>\n    <tr>\n      <th>23807</th>\n      <td>id_fff7e6992</td>\n      <td>com_droga</td>\n      <td>48</td>\n      <td>D1</td>\n      <td>a28556d51</td>\n      <td>0.1420</td>\n      <td>-0.3696</td>\n      <td>-0.0093</td>\n      <td>-0.2495</td>\n      <td>-0.0175</td>\n      <td>...</td>\n      <td>0.8775</td>\n      <td>0.5230</td>\n      <td>0.1589</td>\n      <td>0.7715</td>\n      <td>0.5497</td>\n      <td>0.6929</td>\n      <td>0.3738</td>\n      <td>0.8636</td>\n      <td>0.4494</td>\n      <td>0.1218</td>\n    </tr>\n    <tr>\n      <th>23808</th>\n      <td>id_fff8c2444</td>\n      <td>com_droga</td>\n      <td>72</td>\n      <td>D1</td>\n      <td>6c3a459be</td>\n      <td>0.1608</td>\n      <td>-1.0500</td>\n      <td>0.2551</td>\n      <td>-0.2239</td>\n      <td>-0.2431</td>\n      <td>...</td>\n      <td>0.0789</td>\n      <td>0.3538</td>\n      <td>0.0558</td>\n      <td>0.3377</td>\n      <td>-0.4753</td>\n      <td>-0.2504</td>\n      <td>-0.7415</td>\n      <td>0.8413</td>\n      <td>-0.4259</td>\n      <td>0.2434</td>\n    </tr>\n    <tr>\n      <th>23809</th>\n      <td>id_fffb1ceed</td>\n      <td>com_droga</td>\n      <td>24</td>\n      <td>D2</td>\n      <td>df1d0a5a1</td>\n      <td>0.1394</td>\n      <td>-0.0636</td>\n      <td>-0.1112</td>\n      <td>-0.5080</td>\n      <td>-0.4713</td>\n      <td>...</td>\n      <td>0.1969</td>\n      <td>0.0262</td>\n      <td>-0.8121</td>\n      <td>0.3434</td>\n      <td>0.5372</td>\n      <td>-0.3246</td>\n      <td>0.0631</td>\n      <td>0.9171</td>\n      <td>0.5258</td>\n      <td>0.4680</td>\n    </tr>\n    <tr>\n      <th>23811</th>\n      <td>id_fffc1c3f4</td>\n      <td>com_controle</td>\n      <td>48</td>\n      <td>D2</td>\n      <td>cacb2b860</td>\n      <td>0.3942</td>\n      <td>0.3756</td>\n      <td>0.3109</td>\n      <td>-0.7389</td>\n      <td>0.5505</td>\n      <td>...</td>\n      <td>0.5409</td>\n      <td>0.3755</td>\n      <td>0.7343</td>\n      <td>0.2807</td>\n      <td>0.4116</td>\n      <td>0.6422</td>\n      <td>0.2256</td>\n      <td>0.7592</td>\n      <td>0.6656</td>\n      <td>0.3808</td>\n    </tr>\n    <tr>\n      <th>23812</th>\n      <td>id_fffcb9e7c</td>\n      <td>com_droga</td>\n      <td>24</td>\n      <td>D1</td>\n      <td>8b87a7a83</td>\n      <td>0.6660</td>\n      <td>0.2324</td>\n      <td>0.4392</td>\n      <td>0.2044</td>\n      <td>0.8531</td>\n      <td>...</td>\n      <td>-0.1105</td>\n      <td>0.4258</td>\n      <td>-0.2012</td>\n      <td>0.1506</td>\n      <td>1.5230</td>\n      <td>0.7101</td>\n      <td>0.1732</td>\n      <td>0.7015</td>\n      <td>-0.6290</td>\n      <td>0.0740</td>\n    </tr>\n  </tbody>\n</table>\n<p>12859 rows × 877 columns</p>\n</div>",
      "text/plain": "                 id    tratamento  tempo dose      droga     g-0     g-1  \\\n0      id_000644bb2     com_droga     24   D1  b68db1d53  1.0620  0.5577   \n2      id_000a6266a     com_droga     48   D1  18bb41b2c  0.6280  0.5817   \n4      id_001626bd3     com_droga     72   D2  7cbed3131 -0.3254 -0.4009   \n6      id_001bd861f     com_droga     24   D2  746ca1f5a  2.0440  1.7000   \n11     id_0024bcd70     com_droga     48   D2  b877aa048 -0.3864 -0.5551   \n...             ...           ...    ...  ...        ...     ...     ...   \n23807  id_fff7e6992     com_droga     48   D1  a28556d51  0.1420 -0.3696   \n23808  id_fff8c2444     com_droga     72   D1  6c3a459be  0.1608 -1.0500   \n23809  id_fffb1ceed     com_droga     24   D2  df1d0a5a1  0.1394 -0.0636   \n23811  id_fffc1c3f4  com_controle     48   D2  cacb2b860  0.3942  0.3756   \n23812  id_fffcb9e7c     com_droga     24   D1  8b87a7a83  0.6660  0.2324   \n\n          g-2     g-3     g-4  ...    c-90    c-91    c-92    c-93    c-94  \\\n0     -0.2479 -0.6208 -0.1944  ...  0.2862  0.2584  0.8076  0.5523 -0.1912   \n2      1.5540 -0.0764 -0.0323  ... -0.7250 -0.6297  0.6103  0.0223 -1.3240   \n4      0.9700  0.6919  1.4180  ...  0.0042  0.0048  0.6670  1.0690  0.5523   \n6     -1.5390  5.9440 -2.1670  ...  0.1855  1.1720  0.8325  0.6486  0.8090   \n11    -0.8978 -0.2616 -0.2801  ...  0.2856 -0.1953  0.7269 -0.5909 -0.0241   \n...       ...     ...     ...  ...     ...     ...     ...     ...     ...   \n23807 -0.0093 -0.2495 -0.0175  ...  0.8775  0.5230  0.1589  0.7715  0.5497   \n23808  0.2551 -0.2239 -0.2431  ...  0.0789  0.3538  0.0558  0.3377 -0.4753   \n23809 -0.1112 -0.5080 -0.4713  ...  0.1969  0.0262 -0.8121  0.3434  0.5372   \n23811  0.3109 -0.7389  0.5505  ...  0.5409  0.3755  0.7343  0.2807  0.4116   \n23812  0.4392  0.2044  0.8531  ... -0.1105  0.4258 -0.2012  0.1506  1.5230   \n\n         c-95    c-96    c-97    c-98    c-99  \n0      0.6584 -0.3981  0.2139  0.3801  0.4176  \n2     -0.3174 -0.6417 -0.2187 -1.4080  0.6931  \n4     -0.3031  0.1094  0.2885 -0.3786  0.7125  \n6      1.5880  2.4670  0.0357  0.1351 -0.3179  \n11     0.0299  0.2731  0.6306  0.8285  0.3605  \n...       ...     ...     ...     ...     ...  \n23807  0.6929  0.3738  0.8636  0.4494  0.1218  \n23808 -0.2504 -0.7415  0.8413 -0.4259  0.2434  \n23809 -0.3246  0.0631  0.9171  0.5258  0.4680  \n23811  0.6422  0.2256  0.7592  0.6656  0.3808  \n23812  0.7101  0.1732  0.7015 -0.6290  0.0740  \n\n[12859 rows x 877 columns]"
     },
     "execution_count": 78,
     "metadata": {},
     "output_type": "execute_result"
    }
   ],
   "source": [
    "data.query(\"`g-0` >= `g-1`\")"
   ]
  },
  {
   "cell_type": "markdown",
   "metadata": {},
   "source": [
    "✅. All good to go! Next one!\r\n",
    "\r\n",
    "The next is the **Challenge 06**. Well, it has 877 columns, so i am not crazy to do this manually. How about use `replace`?"
   ]
  },
  {
   "cell_type": "code",
   "execution_count": 93,
   "metadata": {},
   "outputs": [
    {
     "data": {
      "text/html": "<div>\n<style scoped>\n    .dataframe tbody tr th:only-of-type {\n        vertical-align: middle;\n    }\n\n    .dataframe tbody tr th {\n        vertical-align: top;\n    }\n\n    .dataframe thead th {\n        text-align: right;\n    }\n</style>\n<table border=\"1\" class=\"dataframe\">\n  <thead>\n    <tr style=\"text-align: right;\">\n      <th></th>\n      <th>id</th>\n      <th>tratamento</th>\n      <th>tempo</th>\n      <th>dose</th>\n      <th>droga</th>\n      <th>g0</th>\n      <th>g1</th>\n      <th>g2</th>\n      <th>g3</th>\n      <th>g4</th>\n      <th>...</th>\n      <th>c90</th>\n      <th>c91</th>\n      <th>c92</th>\n      <th>c93</th>\n      <th>c94</th>\n      <th>c95</th>\n      <th>c96</th>\n      <th>c97</th>\n      <th>c98</th>\n      <th>c99</th>\n    </tr>\n  </thead>\n  <tbody>\n    <tr>\n      <th>0</th>\n      <td>id_000644bb2</td>\n      <td>com_droga</td>\n      <td>24</td>\n      <td>D1</td>\n      <td>b68db1d53</td>\n      <td>1.0620</td>\n      <td>0.5577</td>\n      <td>-0.2479</td>\n      <td>-0.6208</td>\n      <td>-0.1944</td>\n      <td>...</td>\n      <td>0.2862</td>\n      <td>0.2584</td>\n      <td>0.8076</td>\n      <td>0.5523</td>\n      <td>-0.1912</td>\n      <td>0.6584</td>\n      <td>-0.3981</td>\n      <td>0.2139</td>\n      <td>0.3801</td>\n      <td>0.4176</td>\n    </tr>\n    <tr>\n      <th>1</th>\n      <td>id_000779bfc</td>\n      <td>com_droga</td>\n      <td>72</td>\n      <td>D1</td>\n      <td>df89a8e5a</td>\n      <td>0.0743</td>\n      <td>0.4087</td>\n      <td>0.2991</td>\n      <td>0.0604</td>\n      <td>1.0190</td>\n      <td>...</td>\n      <td>-0.4265</td>\n      <td>0.7543</td>\n      <td>0.4708</td>\n      <td>0.0230</td>\n      <td>0.2957</td>\n      <td>0.4899</td>\n      <td>0.1522</td>\n      <td>0.1241</td>\n      <td>0.6077</td>\n      <td>0.7371</td>\n    </tr>\n    <tr>\n      <th>2</th>\n      <td>id_000a6266a</td>\n      <td>com_droga</td>\n      <td>48</td>\n      <td>D1</td>\n      <td>18bb41b2c</td>\n      <td>0.6280</td>\n      <td>0.5817</td>\n      <td>1.5540</td>\n      <td>-0.0764</td>\n      <td>-0.0323</td>\n      <td>...</td>\n      <td>-0.7250</td>\n      <td>-0.6297</td>\n      <td>0.6103</td>\n      <td>0.0223</td>\n      <td>-1.3240</td>\n      <td>-0.3174</td>\n      <td>-0.6417</td>\n      <td>-0.2187</td>\n      <td>-1.4080</td>\n      <td>0.6931</td>\n    </tr>\n    <tr>\n      <th>3</th>\n      <td>id_0015fd391</td>\n      <td>com_droga</td>\n      <td>48</td>\n      <td>D1</td>\n      <td>8c7f86626</td>\n      <td>-0.5138</td>\n      <td>-0.2491</td>\n      <td>-0.2656</td>\n      <td>0.5288</td>\n      <td>4.0620</td>\n      <td>...</td>\n      <td>-2.0990</td>\n      <td>-0.6441</td>\n      <td>-5.6300</td>\n      <td>-1.3780</td>\n      <td>-0.8632</td>\n      <td>-1.2880</td>\n      <td>-1.6210</td>\n      <td>-0.8784</td>\n      <td>-0.3876</td>\n      <td>-0.8154</td>\n    </tr>\n    <tr>\n      <th>4</th>\n      <td>id_001626bd3</td>\n      <td>com_droga</td>\n      <td>72</td>\n      <td>D2</td>\n      <td>7cbed3131</td>\n      <td>-0.3254</td>\n      <td>-0.4009</td>\n      <td>0.9700</td>\n      <td>0.6919</td>\n      <td>1.4180</td>\n      <td>...</td>\n      <td>0.0042</td>\n      <td>0.0048</td>\n      <td>0.6670</td>\n      <td>1.0690</td>\n      <td>0.5523</td>\n      <td>-0.3031</td>\n      <td>0.1094</td>\n      <td>0.2885</td>\n      <td>-0.3786</td>\n      <td>0.7125</td>\n    </tr>\n    <tr>\n      <th>...</th>\n      <td>...</td>\n      <td>...</td>\n      <td>...</td>\n      <td>...</td>\n      <td>...</td>\n      <td>...</td>\n      <td>...</td>\n      <td>...</td>\n      <td>...</td>\n      <td>...</td>\n      <td>...</td>\n      <td>...</td>\n      <td>...</td>\n      <td>...</td>\n      <td>...</td>\n      <td>...</td>\n      <td>...</td>\n      <td>...</td>\n      <td>...</td>\n      <td>...</td>\n      <td>...</td>\n    </tr>\n    <tr>\n      <th>23809</th>\n      <td>id_fffb1ceed</td>\n      <td>com_droga</td>\n      <td>24</td>\n      <td>D2</td>\n      <td>df1d0a5a1</td>\n      <td>0.1394</td>\n      <td>-0.0636</td>\n      <td>-0.1112</td>\n      <td>-0.5080</td>\n      <td>-0.4713</td>\n      <td>...</td>\n      <td>0.1969</td>\n      <td>0.0262</td>\n      <td>-0.8121</td>\n      <td>0.3434</td>\n      <td>0.5372</td>\n      <td>-0.3246</td>\n      <td>0.0631</td>\n      <td>0.9171</td>\n      <td>0.5258</td>\n      <td>0.4680</td>\n    </tr>\n    <tr>\n      <th>23810</th>\n      <td>id_fffb70c0c</td>\n      <td>com_droga</td>\n      <td>24</td>\n      <td>D2</td>\n      <td>ecf3b6b74</td>\n      <td>-1.3260</td>\n      <td>0.3478</td>\n      <td>-0.3743</td>\n      <td>0.9905</td>\n      <td>-0.7178</td>\n      <td>...</td>\n      <td>0.4286</td>\n      <td>0.4426</td>\n      <td>0.0423</td>\n      <td>-0.3195</td>\n      <td>-0.8086</td>\n      <td>-0.9798</td>\n      <td>-0.2084</td>\n      <td>-0.1224</td>\n      <td>-0.2715</td>\n      <td>0.3689</td>\n    </tr>\n    <tr>\n      <th>23811</th>\n      <td>id_fffc1c3f4</td>\n      <td>com_controle</td>\n      <td>48</td>\n      <td>D2</td>\n      <td>cacb2b860</td>\n      <td>0.3942</td>\n      <td>0.3756</td>\n      <td>0.3109</td>\n      <td>-0.7389</td>\n      <td>0.5505</td>\n      <td>...</td>\n      <td>0.5409</td>\n      <td>0.3755</td>\n      <td>0.7343</td>\n      <td>0.2807</td>\n      <td>0.4116</td>\n      <td>0.6422</td>\n      <td>0.2256</td>\n      <td>0.7592</td>\n      <td>0.6656</td>\n      <td>0.3808</td>\n    </tr>\n    <tr>\n      <th>23812</th>\n      <td>id_fffcb9e7c</td>\n      <td>com_droga</td>\n      <td>24</td>\n      <td>D1</td>\n      <td>8b87a7a83</td>\n      <td>0.6660</td>\n      <td>0.2324</td>\n      <td>0.4392</td>\n      <td>0.2044</td>\n      <td>0.8531</td>\n      <td>...</td>\n      <td>-0.1105</td>\n      <td>0.4258</td>\n      <td>-0.2012</td>\n      <td>0.1506</td>\n      <td>1.5230</td>\n      <td>0.7101</td>\n      <td>0.1732</td>\n      <td>0.7015</td>\n      <td>-0.6290</td>\n      <td>0.0740</td>\n    </tr>\n    <tr>\n      <th>23813</th>\n      <td>id_ffffdd77b</td>\n      <td>com_droga</td>\n      <td>72</td>\n      <td>D1</td>\n      <td>972f41291</td>\n      <td>-0.8598</td>\n      <td>1.0240</td>\n      <td>-0.1361</td>\n      <td>0.7952</td>\n      <td>-0.3611</td>\n      <td>...</td>\n      <td>-3.3890</td>\n      <td>-1.7450</td>\n      <td>-6.6300</td>\n      <td>-4.0950</td>\n      <td>-7.3860</td>\n      <td>-1.4160</td>\n      <td>-3.5770</td>\n      <td>-0.4775</td>\n      <td>-2.1500</td>\n      <td>-4.2520</td>\n    </tr>\n  </tbody>\n</table>\n<p>23814 rows × 877 columns</p>\n</div>",
      "text/plain": "                 id    tratamento  tempo dose      droga      g0      g1  \\\n0      id_000644bb2     com_droga     24   D1  b68db1d53  1.0620  0.5577   \n1      id_000779bfc     com_droga     72   D1  df89a8e5a  0.0743  0.4087   \n2      id_000a6266a     com_droga     48   D1  18bb41b2c  0.6280  0.5817   \n3      id_0015fd391     com_droga     48   D1  8c7f86626 -0.5138 -0.2491   \n4      id_001626bd3     com_droga     72   D2  7cbed3131 -0.3254 -0.4009   \n...             ...           ...    ...  ...        ...     ...     ...   \n23809  id_fffb1ceed     com_droga     24   D2  df1d0a5a1  0.1394 -0.0636   \n23810  id_fffb70c0c     com_droga     24   D2  ecf3b6b74 -1.3260  0.3478   \n23811  id_fffc1c3f4  com_controle     48   D2  cacb2b860  0.3942  0.3756   \n23812  id_fffcb9e7c     com_droga     24   D1  8b87a7a83  0.6660  0.2324   \n23813  id_ffffdd77b     com_droga     72   D1  972f41291 -0.8598  1.0240   \n\n           g2      g3      g4  ...     c90     c91     c92     c93     c94  \\\n0     -0.2479 -0.6208 -0.1944  ...  0.2862  0.2584  0.8076  0.5523 -0.1912   \n1      0.2991  0.0604  1.0190  ... -0.4265  0.7543  0.4708  0.0230  0.2957   \n2      1.5540 -0.0764 -0.0323  ... -0.7250 -0.6297  0.6103  0.0223 -1.3240   \n3     -0.2656  0.5288  4.0620  ... -2.0990 -0.6441 -5.6300 -1.3780 -0.8632   \n4      0.9700  0.6919  1.4180  ...  0.0042  0.0048  0.6670  1.0690  0.5523   \n...       ...     ...     ...  ...     ...     ...     ...     ...     ...   \n23809 -0.1112 -0.5080 -0.4713  ...  0.1969  0.0262 -0.8121  0.3434  0.5372   \n23810 -0.3743  0.9905 -0.7178  ...  0.4286  0.4426  0.0423 -0.3195 -0.8086   \n23811  0.3109 -0.7389  0.5505  ...  0.5409  0.3755  0.7343  0.2807  0.4116   \n23812  0.4392  0.2044  0.8531  ... -0.1105  0.4258 -0.2012  0.1506  1.5230   \n23813 -0.1361  0.7952 -0.3611  ... -3.3890 -1.7450 -6.6300 -4.0950 -7.3860   \n\n          c95     c96     c97     c98     c99  \n0      0.6584 -0.3981  0.2139  0.3801  0.4176  \n1      0.4899  0.1522  0.1241  0.6077  0.7371  \n2     -0.3174 -0.6417 -0.2187 -1.4080  0.6931  \n3     -1.2880 -1.6210 -0.8784 -0.3876 -0.8154  \n4     -0.3031  0.1094  0.2885 -0.3786  0.7125  \n...       ...     ...     ...     ...     ...  \n23809 -0.3246  0.0631  0.9171  0.5258  0.4680  \n23810 -0.9798 -0.2084 -0.1224 -0.2715  0.3689  \n23811  0.6422  0.2256  0.7592  0.6656  0.3808  \n23812  0.7101  0.1732  0.7015 -0.6290  0.0740  \n23813 -1.4160 -3.5770 -0.4775 -2.1500 -4.2520  \n\n[23814 rows x 877 columns]"
     },
     "execution_count": 93,
     "metadata": {},
     "output_type": "execute_result"
    }
   ],
   "source": [
    "data.columns = data.columns.str.replace('-','')\r\n",
    "data"
   ]
  },
  {
   "cell_type": "markdown",
   "metadata": {},
   "source": [
    "It worked pretty well! Maybe that is a more beautiful way, but in this case, i only called one time the function, so i don't think it will impacts a lot in terms of performance. It is only one line too, so I will leave it like that. Next!\r\n",
    "\r\n",
    "**Challenge 07**, here i come! First, i don't think matplotlib should be your way to go if you want beautiful graphs. Librarys like Plot.ly (I love plot.ly so much), altair and seaborn do better jobs at that. BUT! The challenge was matplotlib, so lets do this!\r\n",
    "\r\n",
    "No, i will not do the pie charts. Negative. No way.\r\n",
    "\r\n",
    "So lets jump to the bar chart!"
   ]
  },
  {
   "cell_type": "code",
   "execution_count": 149,
   "metadata": {},
   "outputs": [
    {
     "data": {
      "image/png": "[encoded data removed]",
      "text/plain": "<Figure size 432x288 with 1 Axes>"
     },
     "metadata": {
      "needs_background": "light"
     },
     "output_type": "display_data"
    }
   ],
   "source": [
    "plot = data['tempo'].value_counts().plot.bar(color='darkgreen', width=0.4)\r\n",
    "plot.set_ylabel('Quantity of samples')\r\n",
    "plot.set_xlabel('Hours of exposure')\r\n",
    "plot.tick_params(rotation=0)\r\n",
    "plot.set_title('Frequency of \"Hours of exposure\"')\r\n",
    "plot.set_ylim([7700,8300])\r\n",
    "plot.yaxis.grid(alpha=0.5)"
   ]
  },
  {
   "cell_type": "markdown",
   "metadata": {},
   "source": [
    "That's more informative! My main focus was to readjust the limits of the axes and to put a horizontal grid. I didn't need to see from 0 to 9000. What i need is to have a more precise visualization of what each bar correspond. I know, some people doesn't like not starting the bar from 0, but i think is just a waste of space of information. As a standalone graph, I enjoy so much the information that a get of snapshot of the top of the bars that the full picture!\r\n",
    "\r\n",
    "Soooooo, the last one! Finally! **Challenge 08**! Summarize my understanding of the data, right? Well, we learned about the control cultures, the genetic expression and how it all works. We learned that the dataset has a lot (i mean, A LOT) of columns, and probably, to make predictions, we will need to drop some of them. And some basic concepts of pandas! It was a nice start! Tomorrow, more challenges and data science is coming, right? Let's do it! :)"
   ]
  }
 ],
 "metadata": {
  "kernelspec": {
   "display_name": "Python 3.8.8 64-bit ('base': conda)",
   "name": "python388jvsc74a57bd07a075d98d617ca252a0dbf43ece6a3ecbd51bbffc8fb0c918860b2add96ce0fa"
  },
  "language_info": {
   "codemirror_mode": {
    "name": "ipython",
    "version": 3
   },
   "file_extension": ".py",
   "mimetype": "text/x-python",
   "name": "python",
   "nbconvert_exporter": "python",
   "pygments_lexer": "ipython3",
   "version": "3.8.8"
  },
  "orig_nbformat": 2
 },
 "nbformat": 4,
 "nbformat_minor": 2
}