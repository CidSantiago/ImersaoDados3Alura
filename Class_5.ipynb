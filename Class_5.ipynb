{
 "cells": [
  {
   "cell_type": "markdown",
   "metadata": {},
   "source": [
    "## Class 04 of Alura 3rd Data Immersion program\r\n",
    "---\r\n",
    "Ladies and gentleman, here we are! Last class of the Data Immersion! What a journey has been, right? In this class, we will learned about machine learning, the scikit library and the challenges involved in the problem! The level has rised a lot, so i am kind of focusing more on the class and writing less, but even so, i will maintain how i am doing this classes, ok? :)\r\n",
    "\r\n",
    "So, shall we go? Just to remember, *italic* is my comments of the class, and `#personal` is code that i did during the class for some reason that I will explain or had explained."
   ]
  },
  {
   "cell_type": "code",
   "execution_count": 1,
   "metadata": {},
   "outputs": [
    {
     "data": {
      "text/html": "<div>\n<style scoped>\n    .dataframe tbody tr th:only-of-type {\n        vertical-align: middle;\n    }\n\n    .dataframe tbody tr th {\n        vertical-align: top;\n    }\n\n    .dataframe thead th {\n        text-align: right;\n    }\n</style>\n<table border=\"1\" class=\"dataframe\">\n  <thead>\n    <tr style=\"text-align: right;\">\n      <th></th>\n      <th>id</th>\n      <th>tratamento</th>\n      <th>tempo</th>\n      <th>dose</th>\n      <th>composto</th>\n      <th>g-0</th>\n      <th>g-1</th>\n      <th>g-2</th>\n      <th>g-3</th>\n      <th>g-4</th>\n      <th>...</th>\n      <th>c-90</th>\n      <th>c-91</th>\n      <th>c-92</th>\n      <th>c-93</th>\n      <th>c-94</th>\n      <th>c-95</th>\n      <th>c-96</th>\n      <th>c-97</th>\n      <th>c-98</th>\n      <th>c-99</th>\n    </tr>\n  </thead>\n  <tbody>\n    <tr>\n      <th>0</th>\n      <td>id_000644bb2</td>\n      <td>com_droga</td>\n      <td>24</td>\n      <td>D1</td>\n      <td>b68db1d53</td>\n      <td>1.0620</td>\n      <td>0.5577</td>\n      <td>-0.2479</td>\n      <td>-0.6208</td>\n      <td>-0.1944</td>\n      <td>...</td>\n      <td>0.2862</td>\n      <td>0.2584</td>\n      <td>0.8076</td>\n      <td>0.5523</td>\n      <td>-0.1912</td>\n      <td>0.6584</td>\n      <td>-0.3981</td>\n      <td>0.2139</td>\n      <td>0.3801</td>\n      <td>0.4176</td>\n    </tr>\n    <tr>\n      <th>1</th>\n      <td>id_000779bfc</td>\n      <td>com_droga</td>\n      <td>72</td>\n      <td>D1</td>\n      <td>df89a8e5a</td>\n      <td>0.0743</td>\n      <td>0.4087</td>\n      <td>0.2991</td>\n      <td>0.0604</td>\n      <td>1.0190</td>\n      <td>...</td>\n      <td>-0.4265</td>\n      <td>0.7543</td>\n      <td>0.4708</td>\n      <td>0.0230</td>\n      <td>0.2957</td>\n      <td>0.4899</td>\n      <td>0.1522</td>\n      <td>0.1241</td>\n      <td>0.6077</td>\n      <td>0.7371</td>\n    </tr>\n    <tr>\n      <th>2</th>\n      <td>id_000a6266a</td>\n      <td>com_droga</td>\n      <td>48</td>\n      <td>D1</td>\n      <td>18bb41b2c</td>\n      <td>0.6280</td>\n      <td>0.5817</td>\n      <td>1.5540</td>\n      <td>-0.0764</td>\n      <td>-0.0323</td>\n      <td>...</td>\n      <td>-0.7250</td>\n      <td>-0.6297</td>\n      <td>0.6103</td>\n      <td>0.0223</td>\n      <td>-1.3240</td>\n      <td>-0.3174</td>\n      <td>-0.6417</td>\n      <td>-0.2187</td>\n      <td>-1.4080</td>\n      <td>0.6931</td>\n    </tr>\n    <tr>\n      <th>3</th>\n      <td>id_0015fd391</td>\n      <td>com_droga</td>\n      <td>48</td>\n      <td>D1</td>\n      <td>8c7f86626</td>\n      <td>-0.5138</td>\n      <td>-0.2491</td>\n      <td>-0.2656</td>\n      <td>0.5288</td>\n      <td>4.0620</td>\n      <td>...</td>\n      <td>-2.0990</td>\n      <td>-0.6441</td>\n      <td>-5.6300</td>\n      <td>-1.3780</td>\n      <td>-0.8632</td>\n      <td>-1.2880</td>\n      <td>-1.6210</td>\n      <td>-0.8784</td>\n      <td>-0.3876</td>\n      <td>-0.8154</td>\n    </tr>\n    <tr>\n      <th>4</th>\n      <td>id_001626bd3</td>\n      <td>com_droga</td>\n      <td>72</td>\n      <td>D2</td>\n      <td>7cbed3131</td>\n      <td>-0.3254</td>\n      <td>-0.4009</td>\n      <td>0.9700</td>\n      <td>0.6919</td>\n      <td>1.4180</td>\n      <td>...</td>\n      <td>0.0042</td>\n      <td>0.0048</td>\n      <td>0.6670</td>\n      <td>1.0690</td>\n      <td>0.5523</td>\n      <td>-0.3031</td>\n      <td>0.1094</td>\n      <td>0.2885</td>\n      <td>-0.3786</td>\n      <td>0.7125</td>\n    </tr>\n    <tr>\n      <th>...</th>\n      <td>...</td>\n      <td>...</td>\n      <td>...</td>\n      <td>...</td>\n      <td>...</td>\n      <td>...</td>\n      <td>...</td>\n      <td>...</td>\n      <td>...</td>\n      <td>...</td>\n      <td>...</td>\n      <td>...</td>\n      <td>...</td>\n      <td>...</td>\n      <td>...</td>\n      <td>...</td>\n      <td>...</td>\n      <td>...</td>\n      <td>...</td>\n      <td>...</td>\n      <td>...</td>\n    </tr>\n    <tr>\n      <th>23809</th>\n      <td>id_fffb1ceed</td>\n      <td>com_droga</td>\n      <td>24</td>\n      <td>D2</td>\n      <td>df1d0a5a1</td>\n      <td>0.1394</td>\n      <td>-0.0636</td>\n      <td>-0.1112</td>\n      <td>-0.5080</td>\n      <td>-0.4713</td>\n      <td>...</td>\n      <td>0.1969</td>\n      <td>0.0262</td>\n      <td>-0.8121</td>\n      <td>0.3434</td>\n      <td>0.5372</td>\n      <td>-0.3246</td>\n      <td>0.0631</td>\n      <td>0.9171</td>\n      <td>0.5258</td>\n      <td>0.4680</td>\n    </tr>\n    <tr>\n      <th>23810</th>\n      <td>id_fffb70c0c</td>\n      <td>com_droga</td>\n      <td>24</td>\n      <td>D2</td>\n      <td>ecf3b6b74</td>\n      <td>-1.3260</td>\n      <td>0.3478</td>\n      <td>-0.3743</td>\n      <td>0.9905</td>\n      <td>-0.7178</td>\n      <td>...</td>\n      <td>0.4286</td>\n      <td>0.4426</td>\n      <td>0.0423</td>\n      <td>-0.3195</td>\n      <td>-0.8086</td>\n      <td>-0.9798</td>\n      <td>-0.2084</td>\n      <td>-0.1224</td>\n      <td>-0.2715</td>\n      <td>0.3689</td>\n    </tr>\n    <tr>\n      <th>23811</th>\n      <td>id_fffc1c3f4</td>\n      <td>com_controle</td>\n      <td>48</td>\n      <td>D2</td>\n      <td>cacb2b860</td>\n      <td>0.3942</td>\n      <td>0.3756</td>\n      <td>0.3109</td>\n      <td>-0.7389</td>\n      <td>0.5505</td>\n      <td>...</td>\n      <td>0.5409</td>\n      <td>0.3755</td>\n      <td>0.7343</td>\n      <td>0.2807</td>\n      <td>0.4116</td>\n      <td>0.6422</td>\n      <td>0.2256</td>\n      <td>0.7592</td>\n      <td>0.6656</td>\n      <td>0.3808</td>\n    </tr>\n    <tr>\n      <th>23812</th>\n      <td>id_fffcb9e7c</td>\n      <td>com_droga</td>\n      <td>24</td>\n      <td>D1</td>\n      <td>8b87a7a83</td>\n      <td>0.6660</td>\n      <td>0.2324</td>\n      <td>0.4392</td>\n      <td>0.2044</td>\n      <td>0.8531</td>\n      <td>...</td>\n      <td>-0.1105</td>\n      <td>0.4258</td>\n      <td>-0.2012</td>\n      <td>0.1506</td>\n      <td>1.5230</td>\n      <td>0.7101</td>\n      <td>0.1732</td>\n      <td>0.7015</td>\n      <td>-0.6290</td>\n      <td>0.0740</td>\n    </tr>\n    <tr>\n      <th>23813</th>\n      <td>id_ffffdd77b</td>\n      <td>com_droga</td>\n      <td>72</td>\n      <td>D1</td>\n      <td>972f41291</td>\n      <td>-0.8598</td>\n      <td>1.0240</td>\n      <td>-0.1361</td>\n      <td>0.7952</td>\n      <td>-0.3611</td>\n      <td>...</td>\n      <td>-3.3890</td>\n      <td>-1.7450</td>\n      <td>-6.6300</td>\n      <td>-4.0950</td>\n      <td>-7.3860</td>\n      <td>-1.4160</td>\n      <td>-3.5770</td>\n      <td>-0.4775</td>\n      <td>-2.1500</td>\n      <td>-4.2520</td>\n    </tr>\n  </tbody>\n</table>\n<p>23814 rows × 877 columns</p>\n</div>",
      "text/plain": "                 id    tratamento  tempo dose   composto     g-0     g-1  \\\n0      id_000644bb2     com_droga     24   D1  b68db1d53  1.0620  0.5577   \n1      id_000779bfc     com_droga     72   D1  df89a8e5a  0.0743  0.4087   \n2      id_000a6266a     com_droga     48   D1  18bb41b2c  0.6280  0.5817   \n3      id_0015fd391     com_droga     48   D1  8c7f86626 -0.5138 -0.2491   \n4      id_001626bd3     com_droga     72   D2  7cbed3131 -0.3254 -0.4009   \n...             ...           ...    ...  ...        ...     ...     ...   \n23809  id_fffb1ceed     com_droga     24   D2  df1d0a5a1  0.1394 -0.0636   \n23810  id_fffb70c0c     com_droga     24   D2  ecf3b6b74 -1.3260  0.3478   \n23811  id_fffc1c3f4  com_controle     48   D2  cacb2b860  0.3942  0.3756   \n23812  id_fffcb9e7c     com_droga     24   D1  8b87a7a83  0.6660  0.2324   \n23813  id_ffffdd77b     com_droga     72   D1  972f41291 -0.8598  1.0240   \n\n          g-2     g-3     g-4  ...    c-90    c-91    c-92    c-93    c-94  \\\n0     -0.2479 -0.6208 -0.1944  ...  0.2862  0.2584  0.8076  0.5523 -0.1912   \n1      0.2991  0.0604  1.0190  ... -0.4265  0.7543  0.4708  0.0230  0.2957   \n2      1.5540 -0.0764 -0.0323  ... -0.7250 -0.6297  0.6103  0.0223 -1.3240   \n3     -0.2656  0.5288  4.0620  ... -2.0990 -0.6441 -5.6300 -1.3780 -0.8632   \n4      0.9700  0.6919  1.4180  ...  0.0042  0.0048  0.6670  1.0690  0.5523   \n...       ...     ...     ...  ...     ...     ...     ...     ...     ...   \n23809 -0.1112 -0.5080 -0.4713  ...  0.1969  0.0262 -0.8121  0.3434  0.5372   \n23810 -0.3743  0.9905 -0.7178  ...  0.4286  0.4426  0.0423 -0.3195 -0.8086   \n23811  0.3109 -0.7389  0.5505  ...  0.5409  0.3755  0.7343  0.2807  0.4116   \n23812  0.4392  0.2044  0.8531  ... -0.1105  0.4258 -0.2012  0.1506  1.5230   \n23813 -0.1361  0.7952 -0.3611  ... -3.3890 -1.7450 -6.6300 -4.0950 -7.3860   \n\n         c-95    c-96    c-97    c-98    c-99  \n0      0.6584 -0.3981  0.2139  0.3801  0.4176  \n1      0.4899  0.1522  0.1241  0.6077  0.7371  \n2     -0.3174 -0.6417 -0.2187 -1.4080  0.6931  \n3     -1.2880 -1.6210 -0.8784 -0.3876 -0.8154  \n4     -0.3031  0.1094  0.2885 -0.3786  0.7125  \n...       ...     ...     ...     ...     ...  \n23809 -0.3246  0.0631  0.9171  0.5258  0.4680  \n23810 -0.9798 -0.2084 -0.1224 -0.2715  0.3689  \n23811  0.6422  0.2256  0.7592  0.6656  0.3808  \n23812  0.7101  0.1732  0.7015 -0.6290  0.0740  \n23813 -1.4160 -3.5770 -0.4775 -2.1500 -4.2520  \n\n[23814 rows x 877 columns]"
     },
     "execution_count": 1,
     "metadata": {},
     "output_type": "execute_result"
    }
   ],
   "source": [
    "import pandas as pd\r\n",
    "\r\n",
    "data_url = 'https://github.com/alura-cursos/imersaodados3/blob/main/dados/dados_experimentos.zip?raw=true'\r\n",
    "\r\n",
    "data = pd.read_csv(data_url, compression= 'zip')\r\n",
    "\r\n",
    "mapa = {'droga':'composto'}\r\n",
    "data.rename(columns=mapa, inplace=True)\r\n",
    "\r\n",
    "data"
   ]
  },
  {
   "cell_type": "code",
   "execution_count": 2,
   "metadata": {},
   "outputs": [
    {
     "data": {
      "text/html": "<div>\n<style scoped>\n    .dataframe tbody tr th:only-of-type {\n        vertical-align: middle;\n    }\n\n    .dataframe tbody tr th {\n        vertical-align: top;\n    }\n\n    .dataframe thead th {\n        text-align: right;\n    }\n</style>\n<table border=\"1\" class=\"dataframe\">\n  <thead>\n    <tr style=\"text-align: right;\">\n      <th></th>\n      <th>id</th>\n      <th>5-alpha_reductase_inhibitor</th>\n      <th>11-beta-hsd1_inhibitor</th>\n      <th>acat_inhibitor</th>\n      <th>acetylcholine_receptor_agonist</th>\n      <th>acetylcholine_receptor_antagonist</th>\n      <th>acetylcholinesterase_inhibitor</th>\n      <th>adenosine_receptor_agonist</th>\n      <th>adenosine_receptor_antagonist</th>\n      <th>adenylyl_cyclase_activator</th>\n      <th>...</th>\n      <th>trpv_antagonist</th>\n      <th>tubulin_inhibitor</th>\n      <th>tyrosine_kinase_inhibitor</th>\n      <th>ubiquitin_specific_protease_inhibitor</th>\n      <th>vegfr_inhibitor</th>\n      <th>vitamin_b</th>\n      <th>vitamin_d_receptor_agonist</th>\n      <th>wnt_inhibitor</th>\n      <th>n_moa</th>\n      <th>ativo_moa</th>\n    </tr>\n  </thead>\n  <tbody>\n    <tr>\n      <th>0</th>\n      <td>id_000644bb2</td>\n      <td>0</td>\n      <td>0</td>\n      <td>0</td>\n      <td>0</td>\n      <td>0</td>\n      <td>0</td>\n      <td>0</td>\n      <td>0</td>\n      <td>0</td>\n      <td>...</td>\n      <td>0</td>\n      <td>0</td>\n      <td>0</td>\n      <td>0</td>\n      <td>0</td>\n      <td>0</td>\n      <td>0</td>\n      <td>0</td>\n      <td>1</td>\n      <td>True</td>\n    </tr>\n    <tr>\n      <th>1</th>\n      <td>id_000779bfc</td>\n      <td>0</td>\n      <td>0</td>\n      <td>0</td>\n      <td>0</td>\n      <td>0</td>\n      <td>0</td>\n      <td>0</td>\n      <td>0</td>\n      <td>0</td>\n      <td>...</td>\n      <td>0</td>\n      <td>0</td>\n      <td>0</td>\n      <td>0</td>\n      <td>0</td>\n      <td>0</td>\n      <td>0</td>\n      <td>0</td>\n      <td>0</td>\n      <td>False</td>\n    </tr>\n    <tr>\n      <th>2</th>\n      <td>id_000a6266a</td>\n      <td>0</td>\n      <td>0</td>\n      <td>0</td>\n      <td>0</td>\n      <td>0</td>\n      <td>0</td>\n      <td>0</td>\n      <td>0</td>\n      <td>0</td>\n      <td>...</td>\n      <td>0</td>\n      <td>0</td>\n      <td>0</td>\n      <td>0</td>\n      <td>0</td>\n      <td>0</td>\n      <td>0</td>\n      <td>0</td>\n      <td>3</td>\n      <td>True</td>\n    </tr>\n    <tr>\n      <th>3</th>\n      <td>id_0015fd391</td>\n      <td>0</td>\n      <td>0</td>\n      <td>0</td>\n      <td>0</td>\n      <td>0</td>\n      <td>0</td>\n      <td>0</td>\n      <td>0</td>\n      <td>0</td>\n      <td>...</td>\n      <td>0</td>\n      <td>0</td>\n      <td>0</td>\n      <td>0</td>\n      <td>0</td>\n      <td>0</td>\n      <td>0</td>\n      <td>0</td>\n      <td>0</td>\n      <td>False</td>\n    </tr>\n    <tr>\n      <th>4</th>\n      <td>id_001626bd3</td>\n      <td>0</td>\n      <td>0</td>\n      <td>0</td>\n      <td>0</td>\n      <td>0</td>\n      <td>0</td>\n      <td>0</td>\n      <td>0</td>\n      <td>0</td>\n      <td>...</td>\n      <td>0</td>\n      <td>0</td>\n      <td>0</td>\n      <td>0</td>\n      <td>0</td>\n      <td>0</td>\n      <td>0</td>\n      <td>0</td>\n      <td>1</td>\n      <td>True</td>\n    </tr>\n  </tbody>\n</table>\n<p>5 rows × 209 columns</p>\n</div>",
      "text/plain": "             id  5-alpha_reductase_inhibitor  11-beta-hsd1_inhibitor  \\\n0  id_000644bb2                            0                       0   \n1  id_000779bfc                            0                       0   \n2  id_000a6266a                            0                       0   \n3  id_0015fd391                            0                       0   \n4  id_001626bd3                            0                       0   \n\n   acat_inhibitor  acetylcholine_receptor_agonist  \\\n0               0                               0   \n1               0                               0   \n2               0                               0   \n3               0                               0   \n4               0                               0   \n\n   acetylcholine_receptor_antagonist  acetylcholinesterase_inhibitor  \\\n0                                  0                               0   \n1                                  0                               0   \n2                                  0                               0   \n3                                  0                               0   \n4                                  0                               0   \n\n   adenosine_receptor_agonist  adenosine_receptor_antagonist  \\\n0                           0                              0   \n1                           0                              0   \n2                           0                              0   \n3                           0                              0   \n4                           0                              0   \n\n   adenylyl_cyclase_activator  ...  trpv_antagonist  tubulin_inhibitor  \\\n0                           0  ...                0                  0   \n1                           0  ...                0                  0   \n2                           0  ...                0                  0   \n3                           0  ...                0                  0   \n4                           0  ...                0                  0   \n\n   tyrosine_kinase_inhibitor  ubiquitin_specific_protease_inhibitor  \\\n0                          0                                      0   \n1                          0                                      0   \n2                          0                                      0   \n3                          0                                      0   \n4                          0                                      0   \n\n   vegfr_inhibitor  vitamin_b  vitamin_d_receptor_agonist  wnt_inhibitor  \\\n0                0          0                           0              0   \n1                0          0                           0              0   \n2                0          0                           0              0   \n3                0          0                           0              0   \n4                0          0                           0              0   \n\n   n_moa  ativo_moa  \n0      1       True  \n1      0      False  \n2      3       True  \n3      0      False  \n4      1       True  \n\n[5 rows x 209 columns]"
     },
     "execution_count": 2,
     "metadata": {},
     "output_type": "execute_result"
    }
   ],
   "source": [
    "data_resultados = pd.read_csv('https://github.com/alura-cursos/imersaodados3/blob/main/dados/dados_resultados.csv?raw=true')\r\n",
    "data_resultados['n_moa'] = data_resultados.drop('id', axis=1).sum(axis=1)\r\n",
    "data_resultados['ativo_moa'] = (data_resultados['n_moa'] != 0)\r\n",
    "\r\n",
    "data_resultados.head()"
   ]
  },
  {
   "cell_type": "code",
   "execution_count": 3,
   "metadata": {},
   "outputs": [
    {
     "data": {
      "text/html": "<div>\n<style scoped>\n    .dataframe tbody tr th:only-of-type {\n        vertical-align: middle;\n    }\n\n    .dataframe tbody tr th {\n        vertical-align: top;\n    }\n\n    .dataframe thead th {\n        text-align: right;\n    }\n</style>\n<table border=\"1\" class=\"dataframe\">\n  <thead>\n    <tr style=\"text-align: right;\">\n      <th></th>\n      <th>id</th>\n      <th>tratamento</th>\n      <th>tempo</th>\n      <th>dose</th>\n      <th>composto</th>\n      <th>g-0</th>\n      <th>g-1</th>\n      <th>g-2</th>\n      <th>g-3</th>\n      <th>g-4</th>\n      <th>...</th>\n      <th>c-92</th>\n      <th>c-93</th>\n      <th>c-94</th>\n      <th>c-95</th>\n      <th>c-96</th>\n      <th>c-97</th>\n      <th>c-98</th>\n      <th>c-99</th>\n      <th>n_moa</th>\n      <th>ativo_moa</th>\n    </tr>\n  </thead>\n  <tbody>\n    <tr>\n      <th>0</th>\n      <td>id_000644bb2</td>\n      <td>com_droga</td>\n      <td>24</td>\n      <td>D1</td>\n      <td>b68db1d53</td>\n      <td>1.0620</td>\n      <td>0.5577</td>\n      <td>-0.2479</td>\n      <td>-0.6208</td>\n      <td>-0.1944</td>\n      <td>...</td>\n      <td>0.8076</td>\n      <td>0.5523</td>\n      <td>-0.1912</td>\n      <td>0.6584</td>\n      <td>-0.3981</td>\n      <td>0.2139</td>\n      <td>0.3801</td>\n      <td>0.4176</td>\n      <td>1</td>\n      <td>True</td>\n    </tr>\n    <tr>\n      <th>1</th>\n      <td>id_000779bfc</td>\n      <td>com_droga</td>\n      <td>72</td>\n      <td>D1</td>\n      <td>df89a8e5a</td>\n      <td>0.0743</td>\n      <td>0.4087</td>\n      <td>0.2991</td>\n      <td>0.0604</td>\n      <td>1.0190</td>\n      <td>...</td>\n      <td>0.4708</td>\n      <td>0.0230</td>\n      <td>0.2957</td>\n      <td>0.4899</td>\n      <td>0.1522</td>\n      <td>0.1241</td>\n      <td>0.6077</td>\n      <td>0.7371</td>\n      <td>0</td>\n      <td>False</td>\n    </tr>\n    <tr>\n      <th>2</th>\n      <td>id_000a6266a</td>\n      <td>com_droga</td>\n      <td>48</td>\n      <td>D1</td>\n      <td>18bb41b2c</td>\n      <td>0.6280</td>\n      <td>0.5817</td>\n      <td>1.5540</td>\n      <td>-0.0764</td>\n      <td>-0.0323</td>\n      <td>...</td>\n      <td>0.6103</td>\n      <td>0.0223</td>\n      <td>-1.3240</td>\n      <td>-0.3174</td>\n      <td>-0.6417</td>\n      <td>-0.2187</td>\n      <td>-1.4080</td>\n      <td>0.6931</td>\n      <td>3</td>\n      <td>True</td>\n    </tr>\n    <tr>\n      <th>3</th>\n      <td>id_0015fd391</td>\n      <td>com_droga</td>\n      <td>48</td>\n      <td>D1</td>\n      <td>8c7f86626</td>\n      <td>-0.5138</td>\n      <td>-0.2491</td>\n      <td>-0.2656</td>\n      <td>0.5288</td>\n      <td>4.0620</td>\n      <td>...</td>\n      <td>-5.6300</td>\n      <td>-1.3780</td>\n      <td>-0.8632</td>\n      <td>-1.2880</td>\n      <td>-1.6210</td>\n      <td>-0.8784</td>\n      <td>-0.3876</td>\n      <td>-0.8154</td>\n      <td>0</td>\n      <td>False</td>\n    </tr>\n    <tr>\n      <th>4</th>\n      <td>id_001626bd3</td>\n      <td>com_droga</td>\n      <td>72</td>\n      <td>D2</td>\n      <td>7cbed3131</td>\n      <td>-0.3254</td>\n      <td>-0.4009</td>\n      <td>0.9700</td>\n      <td>0.6919</td>\n      <td>1.4180</td>\n      <td>...</td>\n      <td>0.6670</td>\n      <td>1.0690</td>\n      <td>0.5523</td>\n      <td>-0.3031</td>\n      <td>0.1094</td>\n      <td>0.2885</td>\n      <td>-0.3786</td>\n      <td>0.7125</td>\n      <td>1</td>\n      <td>True</td>\n    </tr>\n    <tr>\n      <th>...</th>\n      <td>...</td>\n      <td>...</td>\n      <td>...</td>\n      <td>...</td>\n      <td>...</td>\n      <td>...</td>\n      <td>...</td>\n      <td>...</td>\n      <td>...</td>\n      <td>...</td>\n      <td>...</td>\n      <td>...</td>\n      <td>...</td>\n      <td>...</td>\n      <td>...</td>\n      <td>...</td>\n      <td>...</td>\n      <td>...</td>\n      <td>...</td>\n      <td>...</td>\n      <td>...</td>\n    </tr>\n    <tr>\n      <th>23809</th>\n      <td>id_fffb1ceed</td>\n      <td>com_droga</td>\n      <td>24</td>\n      <td>D2</td>\n      <td>df1d0a5a1</td>\n      <td>0.1394</td>\n      <td>-0.0636</td>\n      <td>-0.1112</td>\n      <td>-0.5080</td>\n      <td>-0.4713</td>\n      <td>...</td>\n      <td>-0.8121</td>\n      <td>0.3434</td>\n      <td>0.5372</td>\n      <td>-0.3246</td>\n      <td>0.0631</td>\n      <td>0.9171</td>\n      <td>0.5258</td>\n      <td>0.4680</td>\n      <td>1</td>\n      <td>True</td>\n    </tr>\n    <tr>\n      <th>23810</th>\n      <td>id_fffb70c0c</td>\n      <td>com_droga</td>\n      <td>24</td>\n      <td>D2</td>\n      <td>ecf3b6b74</td>\n      <td>-1.3260</td>\n      <td>0.3478</td>\n      <td>-0.3743</td>\n      <td>0.9905</td>\n      <td>-0.7178</td>\n      <td>...</td>\n      <td>0.0423</td>\n      <td>-0.3195</td>\n      <td>-0.8086</td>\n      <td>-0.9798</td>\n      <td>-0.2084</td>\n      <td>-0.1224</td>\n      <td>-0.2715</td>\n      <td>0.3689</td>\n      <td>1</td>\n      <td>True</td>\n    </tr>\n    <tr>\n      <th>23811</th>\n      <td>id_fffc1c3f4</td>\n      <td>com_controle</td>\n      <td>48</td>\n      <td>D2</td>\n      <td>cacb2b860</td>\n      <td>0.3942</td>\n      <td>0.3756</td>\n      <td>0.3109</td>\n      <td>-0.7389</td>\n      <td>0.5505</td>\n      <td>...</td>\n      <td>0.7343</td>\n      <td>0.2807</td>\n      <td>0.4116</td>\n      <td>0.6422</td>\n      <td>0.2256</td>\n      <td>0.7592</td>\n      <td>0.6656</td>\n      <td>0.3808</td>\n      <td>0</td>\n      <td>False</td>\n    </tr>\n    <tr>\n      <th>23812</th>\n      <td>id_fffcb9e7c</td>\n      <td>com_droga</td>\n      <td>24</td>\n      <td>D1</td>\n      <td>8b87a7a83</td>\n      <td>0.6660</td>\n      <td>0.2324</td>\n      <td>0.4392</td>\n      <td>0.2044</td>\n      <td>0.8531</td>\n      <td>...</td>\n      <td>-0.2012</td>\n      <td>0.1506</td>\n      <td>1.5230</td>\n      <td>0.7101</td>\n      <td>0.1732</td>\n      <td>0.7015</td>\n      <td>-0.6290</td>\n      <td>0.0740</td>\n      <td>1</td>\n      <td>True</td>\n    </tr>\n    <tr>\n      <th>23813</th>\n      <td>id_ffffdd77b</td>\n      <td>com_droga</td>\n      <td>72</td>\n      <td>D1</td>\n      <td>972f41291</td>\n      <td>-0.8598</td>\n      <td>1.0240</td>\n      <td>-0.1361</td>\n      <td>0.7952</td>\n      <td>-0.3611</td>\n      <td>...</td>\n      <td>-6.6300</td>\n      <td>-4.0950</td>\n      <td>-7.3860</td>\n      <td>-1.4160</td>\n      <td>-3.5770</td>\n      <td>-0.4775</td>\n      <td>-2.1500</td>\n      <td>-4.2520</td>\n      <td>0</td>\n      <td>False</td>\n    </tr>\n  </tbody>\n</table>\n<p>23814 rows × 879 columns</p>\n</div>",
      "text/plain": "                 id    tratamento  tempo dose   composto     g-0     g-1  \\\n0      id_000644bb2     com_droga     24   D1  b68db1d53  1.0620  0.5577   \n1      id_000779bfc     com_droga     72   D1  df89a8e5a  0.0743  0.4087   \n2      id_000a6266a     com_droga     48   D1  18bb41b2c  0.6280  0.5817   \n3      id_0015fd391     com_droga     48   D1  8c7f86626 -0.5138 -0.2491   \n4      id_001626bd3     com_droga     72   D2  7cbed3131 -0.3254 -0.4009   \n...             ...           ...    ...  ...        ...     ...     ...   \n23809  id_fffb1ceed     com_droga     24   D2  df1d0a5a1  0.1394 -0.0636   \n23810  id_fffb70c0c     com_droga     24   D2  ecf3b6b74 -1.3260  0.3478   \n23811  id_fffc1c3f4  com_controle     48   D2  cacb2b860  0.3942  0.3756   \n23812  id_fffcb9e7c     com_droga     24   D1  8b87a7a83  0.6660  0.2324   \n23813  id_ffffdd77b     com_droga     72   D1  972f41291 -0.8598  1.0240   \n\n          g-2     g-3     g-4  ...    c-92    c-93    c-94    c-95    c-96  \\\n0     -0.2479 -0.6208 -0.1944  ...  0.8076  0.5523 -0.1912  0.6584 -0.3981   \n1      0.2991  0.0604  1.0190  ...  0.4708  0.0230  0.2957  0.4899  0.1522   \n2      1.5540 -0.0764 -0.0323  ...  0.6103  0.0223 -1.3240 -0.3174 -0.6417   \n3     -0.2656  0.5288  4.0620  ... -5.6300 -1.3780 -0.8632 -1.2880 -1.6210   \n4      0.9700  0.6919  1.4180  ...  0.6670  1.0690  0.5523 -0.3031  0.1094   \n...       ...     ...     ...  ...     ...     ...     ...     ...     ...   \n23809 -0.1112 -0.5080 -0.4713  ... -0.8121  0.3434  0.5372 -0.3246  0.0631   \n23810 -0.3743  0.9905 -0.7178  ...  0.0423 -0.3195 -0.8086 -0.9798 -0.2084   \n23811  0.3109 -0.7389  0.5505  ...  0.7343  0.2807  0.4116  0.6422  0.2256   \n23812  0.4392  0.2044  0.8531  ... -0.2012  0.1506  1.5230  0.7101  0.1732   \n23813 -0.1361  0.7952 -0.3611  ... -6.6300 -4.0950 -7.3860 -1.4160 -3.5770   \n\n         c-97    c-98    c-99  n_moa  ativo_moa  \n0      0.2139  0.3801  0.4176      1       True  \n1      0.1241  0.6077  0.7371      0      False  \n2     -0.2187 -1.4080  0.6931      3       True  \n3     -0.8784 -0.3876 -0.8154      0      False  \n4      0.2885 -0.3786  0.7125      1       True  \n...       ...     ...     ...    ...        ...  \n23809  0.9171  0.5258  0.4680      1       True  \n23810 -0.1224 -0.2715  0.3689      1       True  \n23811  0.7592  0.6656  0.3808      0      False  \n23812  0.7015 -0.6290  0.0740      1       True  \n23813 -0.4775 -2.1500 -4.2520      0      False  \n\n[23814 rows x 879 columns]"
     },
     "execution_count": 3,
     "metadata": {},
     "output_type": "execute_result"
    }
   ],
   "source": [
    "data_combinados = pd.merge(data, data_resultados[['id','n_moa', 'ativo_moa']], on='id')\r\n",
    "data_combinados"
   ]
  },
  {
   "cell_type": "code",
   "execution_count": 20,
   "metadata": {},
   "outputs": [
    {
     "data": {
      "text/plain": "0.6264959059416334"
     },
     "execution_count": 20,
     "metadata": {},
     "output_type": "execute_result"
    }
   ],
   "source": [
    "from sklearn.linear_model import LogisticRegression\r\n",
    "from sklearn.model_selection import train_test_split\r\n",
    "\r\n",
    "x = data_combinados.select_dtypes('float64')\r\n",
    "y = data_combinados['ativo_moa']\r\n",
    "x_treino, x_teste, y_treino, y_teste = train_test_split(x, y, test_size=0.2, stratify=y, random_state=376)\r\n",
    "\r\n",
    "modelo_rlogistica = LogisticRegression(max_iter=1000)\r\n",
    "modelo_rlogistica.fit(x_treino,y_treino)\r\n",
    "modelo_rlogistica.score(x_teste, y_teste)\r\n",
    "\r\n"
   ]
  },
  {
   "cell_type": "code",
   "execution_count": 21,
   "metadata": {},
   "outputs": [
    {
     "name": "stderr",
     "output_type": "stream",
     "text": [
      "C:\\Users\\cidsa\\anaconda3\\lib\\site-packages\\sklearn\\utils\\validation.py:70: FutureWarning: Pass strategy=most_frequent as keyword args. From version 1.0 (renaming of 0.25) passing these as positional arguments will result in an error\n",
      "  warnings.warn(f\"Pass {args_msg} as keyword args. From version \"\n"
     ]
    },
    {
     "data": {
      "text/plain": "0.6067604450976275"
     },
     "execution_count": 21,
     "metadata": {},
     "output_type": "execute_result"
    }
   ],
   "source": [
    "from sklearn.dummy import DummyClassifier\r\n",
    "from sklearn.metrics import accuracy_score\r\n",
    "\r\n",
    "\r\n",
    "modelo_dummy = DummyClassifier('most_frequent')\r\n",
    "modelo_dummy.fit(x_treino, y_treino)\r\n",
    "previsao_dummy = modelo_dummy.predict(x_teste)\r\n",
    "accuracy_score(y_teste, previsao_dummy)"
   ]
  },
  {
   "cell_type": "code",
   "execution_count": 17,
   "metadata": {},
   "outputs": [
    {
     "data": {
      "text/plain": "True     0.60666\nFalse    0.39334\nName: ativo_moa, dtype: float64"
     },
     "execution_count": 17,
     "metadata": {},
     "output_type": "execute_result"
    }
   ],
   "source": [
    "data_combinados['ativo_moa'].value_counts(normalize=True)"
   ]
  },
  {
   "cell_type": "code",
   "execution_count": 22,
   "metadata": {},
   "outputs": [
    {
     "data": {
      "text/plain": "0.6105395758975436"
     },
     "execution_count": 22,
     "metadata": {},
     "output_type": "execute_result"
    }
   ],
   "source": [
    "from sklearn.tree import DecisionTreeClassifier\r\n",
    "\r\n",
    "\r\n",
    "x = data_combinados.select_dtypes('float64')\r\n",
    "y = data_combinados['ativo_moa']\r\n",
    "x_treino, x_teste, y_treino, y_teste = train_test_split(x, y, test_size=0.2, stratify=y, random_state=376)\r\n",
    "\r\n",
    "modelo_arvore = DecisionTreeClassifier(max_depth = 3)\r\n",
    "modelo_arvore.fit(x_treino, y_treino)\r\n",
    "modelo_arvore.score(x_teste, y_teste)"
   ]
  },
  {
   "cell_type": "code",
   "execution_count": 23,
   "metadata": {},
   "outputs": [],
   "source": [
    "from sklearn.tree import DecisionTreeClassifier\r\n",
    "\r\n",
    "\r\n",
    "x = data_combinados.select_dtypes('float64')\r\n",
    "y = data_combinados['ativo_moa']\r\n",
    "x_treino, x_teste, y_treino, y_teste = train_test_split(x, y, test_size=0.2, stratify=y, random_state=376)\r\n",
    "\r\n",
    "teste = []\r\n",
    "treino = []\r\n",
    "for i in range(1,15):\r\n",
    "    modelo_arvore = DecisionTreeClassifier(max_depth = i)\r\n",
    "    modelo_arvore.fit(x_treino, y_treino)\r\n",
    "    teste.append(modelo_arvore.score(x_teste, y_teste))\r\n",
    "    treino.append(modelo_arvore.score(x_treino, y_treino))\r\n",
    "\r\n",
    "\r\n"
   ]
  },
  {
   "cell_type": "code",
   "execution_count": 24,
   "metadata": {},
   "outputs": [
    {
     "data": {
      "text/plain": "[0.6067604450976275,\n 0.6067604450976275,\n 0.6105395758975436,\n 0.6204073063195465,\n 0.62019735460844,\n 0.6185177409195884,\n 0.6208272097417594,\n 0.62019735460844,\n 0.6166281755196305,\n 0.6153684652529918,\n 0.6103296241864371,\n 0.5985723283644762,\n 0.6002519420533278,\n 0.5939533907201344]"
     },
     "execution_count": 24,
     "metadata": {},
     "output_type": "execute_result"
    }
   ],
   "source": [
    "teste"
   ]
  },
  {
   "cell_type": "code",
   "execution_count": 25,
   "metadata": {},
   "outputs": [
    {
     "data": {
      "text/plain": "[0.6066348223190384,\n 0.6066348223190384,\n 0.6211222508004829,\n 0.6360820954280615,\n 0.6412261823526324,\n 0.6489423127394888,\n 0.6605427536612252,\n 0.6707259461445594,\n 0.689570101307018,\n 0.706892026665267,\n 0.7293580389480867,\n 0.7530838276205973,\n 0.7770195790247231,\n 0.7993281192588315]"
     },
     "execution_count": 25,
     "metadata": {},
     "output_type": "execute_result"
    }
   ],
   "source": [
    "treino"
   ]
  },
  {
   "cell_type": "code",
   "execution_count": 27,
   "metadata": {},
   "outputs": [
    {
     "data": {
      "text/plain": "<AxesSubplot:>"
     },
     "execution_count": 27,
     "metadata": {},
     "output_type": "execute_result"
    },
    {
     "data": {
      "image/png": "[encoded data removed]",
      "text/plain": "<Figure size 432x288 with 1 Axes>"
     },
     "metadata": {},
     "output_type": "display_data"
    }
   ],
   "source": [
    "import seaborn as sns\r\n",
    "\r\n",
    "sns.set()\r\n",
    "\r\n",
    "sns.lineplot(x = range(1,15), y= teste, label='teste')\r\n",
    "sns.lineplot(x = range(1,15), y= treino, label='treino')"
   ]
  },
  {
   "cell_type": "markdown",
   "metadata": {},
   "source": [
    "*Welcome to the trade-off problem! Bias or variance? Underfitting or overfitting?*"
   ]
  },
  {
   "cell_type": "code",
   "execution_count": 31,
   "metadata": {},
   "outputs": [
    {
     "data": {
      "text/html": "<div>\n<style scoped>\n    .dataframe tbody tr th:only-of-type {\n        vertical-align: middle;\n    }\n\n    .dataframe tbody tr th {\n        vertical-align: top;\n    }\n\n    .dataframe thead th {\n        text-align: right;\n    }\n</style>\n<table border=\"1\" class=\"dataframe\">\n  <thead>\n    <tr style=\"text-align: right;\">\n      <th></th>\n      <th>com_controle</th>\n      <th>com_droga</th>\n    </tr>\n  </thead>\n  <tbody>\n    <tr>\n      <th>0</th>\n      <td>0</td>\n      <td>1</td>\n    </tr>\n    <tr>\n      <th>1</th>\n      <td>0</td>\n      <td>1</td>\n    </tr>\n    <tr>\n      <th>2</th>\n      <td>0</td>\n      <td>1</td>\n    </tr>\n    <tr>\n      <th>3</th>\n      <td>0</td>\n      <td>1</td>\n    </tr>\n    <tr>\n      <th>4</th>\n      <td>0</td>\n      <td>1</td>\n    </tr>\n    <tr>\n      <th>...</th>\n      <td>...</td>\n      <td>...</td>\n    </tr>\n    <tr>\n      <th>23809</th>\n      <td>0</td>\n      <td>1</td>\n    </tr>\n    <tr>\n      <th>23810</th>\n      <td>0</td>\n      <td>1</td>\n    </tr>\n    <tr>\n      <th>23811</th>\n      <td>1</td>\n      <td>0</td>\n    </tr>\n    <tr>\n      <th>23812</th>\n      <td>0</td>\n      <td>1</td>\n    </tr>\n    <tr>\n      <th>23813</th>\n      <td>0</td>\n      <td>1</td>\n    </tr>\n  </tbody>\n</table>\n<p>23814 rows × 2 columns</p>\n</div>",
      "text/plain": "       com_controle  com_droga\n0                 0          1\n1                 0          1\n2                 0          1\n3                 0          1\n4                 0          1\n...             ...        ...\n23809             0          1\n23810             0          1\n23811             1          0\n23812             0          1\n23813             0          1\n\n[23814 rows x 2 columns]"
     },
     "execution_count": 31,
     "metadata": {},
     "output_type": "execute_result"
    }
   ],
   "source": [
    "pd.get_dummies(data_combinados['tratamento'])"
   ]
  },
  {
   "cell_type": "code",
   "execution_count": 32,
   "metadata": {},
   "outputs": [
    {
     "data": {
      "text/html": "<div>\n<style scoped>\n    .dataframe tbody tr th:only-of-type {\n        vertical-align: middle;\n    }\n\n    .dataframe tbody tr th {\n        vertical-align: top;\n    }\n\n    .dataframe thead th {\n        text-align: right;\n    }\n</style>\n<table border=\"1\" class=\"dataframe\">\n  <thead>\n    <tr style=\"text-align: right;\">\n      <th></th>\n      <th>id</th>\n      <th>composto</th>\n      <th>g-0</th>\n      <th>g-1</th>\n      <th>g-2</th>\n      <th>g-3</th>\n      <th>g-4</th>\n      <th>g-5</th>\n      <th>g-6</th>\n      <th>g-7</th>\n      <th>...</th>\n      <th>c-99</th>\n      <th>n_moa</th>\n      <th>ativo_moa</th>\n      <th>tratamento_com_controle</th>\n      <th>tratamento_com_droga</th>\n      <th>dose_D1</th>\n      <th>dose_D2</th>\n      <th>tempo_24</th>\n      <th>tempo_48</th>\n      <th>tempo_72</th>\n    </tr>\n  </thead>\n  <tbody>\n    <tr>\n      <th>0</th>\n      <td>id_000644bb2</td>\n      <td>b68db1d53</td>\n      <td>1.0620</td>\n      <td>0.5577</td>\n      <td>-0.2479</td>\n      <td>-0.6208</td>\n      <td>-0.1944</td>\n      <td>-1.0120</td>\n      <td>-1.0220</td>\n      <td>-0.0326</td>\n      <td>...</td>\n      <td>0.4176</td>\n      <td>1</td>\n      <td>True</td>\n      <td>0</td>\n      <td>1</td>\n      <td>1</td>\n      <td>0</td>\n      <td>1</td>\n      <td>0</td>\n      <td>0</td>\n    </tr>\n    <tr>\n      <th>1</th>\n      <td>id_000779bfc</td>\n      <td>df89a8e5a</td>\n      <td>0.0743</td>\n      <td>0.4087</td>\n      <td>0.2991</td>\n      <td>0.0604</td>\n      <td>1.0190</td>\n      <td>0.5207</td>\n      <td>0.2341</td>\n      <td>0.3372</td>\n      <td>...</td>\n      <td>0.7371</td>\n      <td>0</td>\n      <td>False</td>\n      <td>0</td>\n      <td>1</td>\n      <td>1</td>\n      <td>0</td>\n      <td>0</td>\n      <td>0</td>\n      <td>1</td>\n    </tr>\n    <tr>\n      <th>2</th>\n      <td>id_000a6266a</td>\n      <td>18bb41b2c</td>\n      <td>0.6280</td>\n      <td>0.5817</td>\n      <td>1.5540</td>\n      <td>-0.0764</td>\n      <td>-0.0323</td>\n      <td>1.2390</td>\n      <td>0.1715</td>\n      <td>0.2155</td>\n      <td>...</td>\n      <td>0.6931</td>\n      <td>3</td>\n      <td>True</td>\n      <td>0</td>\n      <td>1</td>\n      <td>1</td>\n      <td>0</td>\n      <td>0</td>\n      <td>1</td>\n      <td>0</td>\n    </tr>\n    <tr>\n      <th>3</th>\n      <td>id_0015fd391</td>\n      <td>8c7f86626</td>\n      <td>-0.5138</td>\n      <td>-0.2491</td>\n      <td>-0.2656</td>\n      <td>0.5288</td>\n      <td>4.0620</td>\n      <td>-0.8095</td>\n      <td>-1.9590</td>\n      <td>0.1792</td>\n      <td>...</td>\n      <td>-0.8154</td>\n      <td>0</td>\n      <td>False</td>\n      <td>0</td>\n      <td>1</td>\n      <td>1</td>\n      <td>0</td>\n      <td>0</td>\n      <td>1</td>\n      <td>0</td>\n    </tr>\n    <tr>\n      <th>4</th>\n      <td>id_001626bd3</td>\n      <td>7cbed3131</td>\n      <td>-0.3254</td>\n      <td>-0.4009</td>\n      <td>0.9700</td>\n      <td>0.6919</td>\n      <td>1.4180</td>\n      <td>-0.8244</td>\n      <td>-0.2800</td>\n      <td>-0.1498</td>\n      <td>...</td>\n      <td>0.7125</td>\n      <td>1</td>\n      <td>True</td>\n      <td>0</td>\n      <td>1</td>\n      <td>0</td>\n      <td>1</td>\n      <td>0</td>\n      <td>0</td>\n      <td>1</td>\n    </tr>\n    <tr>\n      <th>...</th>\n      <td>...</td>\n      <td>...</td>\n      <td>...</td>\n      <td>...</td>\n      <td>...</td>\n      <td>...</td>\n      <td>...</td>\n      <td>...</td>\n      <td>...</td>\n      <td>...</td>\n      <td>...</td>\n      <td>...</td>\n      <td>...</td>\n      <td>...</td>\n      <td>...</td>\n      <td>...</td>\n      <td>...</td>\n      <td>...</td>\n      <td>...</td>\n      <td>...</td>\n      <td>...</td>\n    </tr>\n    <tr>\n      <th>23809</th>\n      <td>id_fffb1ceed</td>\n      <td>df1d0a5a1</td>\n      <td>0.1394</td>\n      <td>-0.0636</td>\n      <td>-0.1112</td>\n      <td>-0.5080</td>\n      <td>-0.4713</td>\n      <td>0.7201</td>\n      <td>0.5773</td>\n      <td>0.3055</td>\n      <td>...</td>\n      <td>0.4680</td>\n      <td>1</td>\n      <td>True</td>\n      <td>0</td>\n      <td>1</td>\n      <td>0</td>\n      <td>1</td>\n      <td>1</td>\n      <td>0</td>\n      <td>0</td>\n    </tr>\n    <tr>\n      <th>23810</th>\n      <td>id_fffb70c0c</td>\n      <td>ecf3b6b74</td>\n      <td>-1.3260</td>\n      <td>0.3478</td>\n      <td>-0.3743</td>\n      <td>0.9905</td>\n      <td>-0.7178</td>\n      <td>0.6621</td>\n      <td>-0.2252</td>\n      <td>-0.5565</td>\n      <td>...</td>\n      <td>0.3689</td>\n      <td>1</td>\n      <td>True</td>\n      <td>0</td>\n      <td>1</td>\n      <td>0</td>\n      <td>1</td>\n      <td>1</td>\n      <td>0</td>\n      <td>0</td>\n    </tr>\n    <tr>\n      <th>23811</th>\n      <td>id_fffc1c3f4</td>\n      <td>cacb2b860</td>\n      <td>0.3942</td>\n      <td>0.3756</td>\n      <td>0.3109</td>\n      <td>-0.7389</td>\n      <td>0.5505</td>\n      <td>-0.0159</td>\n      <td>-0.2541</td>\n      <td>0.1745</td>\n      <td>...</td>\n      <td>0.3808</td>\n      <td>0</td>\n      <td>False</td>\n      <td>1</td>\n      <td>0</td>\n      <td>0</td>\n      <td>1</td>\n      <td>0</td>\n      <td>1</td>\n      <td>0</td>\n    </tr>\n    <tr>\n      <th>23812</th>\n      <td>id_fffcb9e7c</td>\n      <td>8b87a7a83</td>\n      <td>0.6660</td>\n      <td>0.2324</td>\n      <td>0.4392</td>\n      <td>0.2044</td>\n      <td>0.8531</td>\n      <td>-0.0343</td>\n      <td>0.0323</td>\n      <td>0.0463</td>\n      <td>...</td>\n      <td>0.0740</td>\n      <td>1</td>\n      <td>True</td>\n      <td>0</td>\n      <td>1</td>\n      <td>1</td>\n      <td>0</td>\n      <td>1</td>\n      <td>0</td>\n      <td>0</td>\n    </tr>\n    <tr>\n      <th>23813</th>\n      <td>id_ffffdd77b</td>\n      <td>972f41291</td>\n      <td>-0.8598</td>\n      <td>1.0240</td>\n      <td>-0.1361</td>\n      <td>0.7952</td>\n      <td>-0.3611</td>\n      <td>-3.6750</td>\n      <td>-1.2420</td>\n      <td>0.9146</td>\n      <td>...</td>\n      <td>-4.2520</td>\n      <td>0</td>\n      <td>False</td>\n      <td>0</td>\n      <td>1</td>\n      <td>1</td>\n      <td>0</td>\n      <td>0</td>\n      <td>0</td>\n      <td>1</td>\n    </tr>\n  </tbody>\n</table>\n<p>23814 rows × 883 columns</p>\n</div>",
      "text/plain": "                 id   composto     g-0     g-1     g-2     g-3     g-4  \\\n0      id_000644bb2  b68db1d53  1.0620  0.5577 -0.2479 -0.6208 -0.1944   \n1      id_000779bfc  df89a8e5a  0.0743  0.4087  0.2991  0.0604  1.0190   \n2      id_000a6266a  18bb41b2c  0.6280  0.5817  1.5540 -0.0764 -0.0323   \n3      id_0015fd391  8c7f86626 -0.5138 -0.2491 -0.2656  0.5288  4.0620   \n4      id_001626bd3  7cbed3131 -0.3254 -0.4009  0.9700  0.6919  1.4180   \n...             ...        ...     ...     ...     ...     ...     ...   \n23809  id_fffb1ceed  df1d0a5a1  0.1394 -0.0636 -0.1112 -0.5080 -0.4713   \n23810  id_fffb70c0c  ecf3b6b74 -1.3260  0.3478 -0.3743  0.9905 -0.7178   \n23811  id_fffc1c3f4  cacb2b860  0.3942  0.3756  0.3109 -0.7389  0.5505   \n23812  id_fffcb9e7c  8b87a7a83  0.6660  0.2324  0.4392  0.2044  0.8531   \n23813  id_ffffdd77b  972f41291 -0.8598  1.0240 -0.1361  0.7952 -0.3611   \n\n          g-5     g-6     g-7  ...    c-99  n_moa  ativo_moa  \\\n0     -1.0120 -1.0220 -0.0326  ...  0.4176      1       True   \n1      0.5207  0.2341  0.3372  ...  0.7371      0      False   \n2      1.2390  0.1715  0.2155  ...  0.6931      3       True   \n3     -0.8095 -1.9590  0.1792  ... -0.8154      0      False   \n4     -0.8244 -0.2800 -0.1498  ...  0.7125      1       True   \n...       ...     ...     ...  ...     ...    ...        ...   \n23809  0.7201  0.5773  0.3055  ...  0.4680      1       True   \n23810  0.6621 -0.2252 -0.5565  ...  0.3689      1       True   \n23811 -0.0159 -0.2541  0.1745  ...  0.3808      0      False   \n23812 -0.0343  0.0323  0.0463  ...  0.0740      1       True   \n23813 -3.6750 -1.2420  0.9146  ... -4.2520      0      False   \n\n       tratamento_com_controle  tratamento_com_droga  dose_D1  dose_D2  \\\n0                            0                     1        1        0   \n1                            0                     1        1        0   \n2                            0                     1        1        0   \n3                            0                     1        1        0   \n4                            0                     1        0        1   \n...                        ...                   ...      ...      ...   \n23809                        0                     1        0        1   \n23810                        0                     1        0        1   \n23811                        1                     0        0        1   \n23812                        0                     1        1        0   \n23813                        0                     1        1        0   \n\n       tempo_24  tempo_48  tempo_72  \n0             1         0         0  \n1             0         0         1  \n2             0         1         0  \n3             0         1         0  \n4             0         0         1  \n...         ...       ...       ...  \n23809         1         0         0  \n23810         1         0         0  \n23811         0         1         0  \n23812         1         0         0  \n23813         0         0         1  \n\n[23814 rows x 883 columns]"
     },
     "execution_count": 32,
     "metadata": {},
     "output_type": "execute_result"
    }
   ],
   "source": [
    "pd.get_dummies(data_combinados, columns=['tratamento','dose','tempo']) "
   ]
  },
  {
   "cell_type": "code",
   "execution_count": 33,
   "metadata": {},
   "outputs": [
    {
     "data": {
      "text/plain": "0.6867520470291832"
     },
     "execution_count": 33,
     "metadata": {},
     "output_type": "execute_result"
    }
   ],
   "source": [
    "from sklearn.ensemble import RandomForestClassifier\r\n",
    "\r\n",
    "\r\n",
    "x = data_combinados.drop(['id','n_moa','ativo_moa', 'composto'], axis=1)\r\n",
    "x = pd.get_dummies(x, columns=['tratamento','dose','tempo']) \r\n",
    "y = data_combinados['ativo_moa']\r\n",
    "x_treino, x_teste, y_treino, y_teste = train_test_split(x, y, test_size=0.2, stratify=y, random_state=376)\r\n",
    "\r\n",
    "modelo_randomforest = RandomForestClassifier()\r\n",
    "modelo_randomforest.fit(x_treino, y_treino)\r\n",
    "modelo_randomforest.score(x_teste, y_teste)\r\n"
   ]
  },
  {
   "cell_type": "markdown",
   "metadata": {},
   "source": [
    "*The end! It was a nice immersion, very good classes! :D Unfortunaly, i have a choice to do know: I could do the challenges now and have less time to dive in the final project, or start right now the final project... I think I will left the challenges for another time! Maybe monday? It was nice while it lasted! See you on monday!* "
   ]
  }
 ],
 "metadata": {
  "interpreter": {
   "hash": "7a075d98d617ca252a0dbf43ece6a3ecbd51bbffc8fb0c918860b2add96ce0fa"
  },
  "kernelspec": {
   "display_name": "Python 3.8.8 64-bit ('base': conda)",
   "name": "python3"
  },
  "language_info": {
   "codemirror_mode": {
    "name": "ipython",
    "version": 3
   },
   "file_extension": ".py",
   "mimetype": "text/x-python",
   "name": "python",
   "nbconvert_exporter": "python",
   "pygments_lexer": "ipython3",
   "version": "3.8.8"
  },
  "orig_nbformat": 2
 },
 "nbformat": 4,
 "nbformat_minor": 2
}